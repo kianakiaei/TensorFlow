{
  "nbformat": 4,
  "nbformat_minor": 0,
  "metadata": {
    "colab": {
      "name": "01_neural_network_regression_with_tensorflow .ipynb",
      "provenance": [],
      "collapsed_sections": [],
      "authorship_tag": "ABX9TyPF4G705GknfPgV4iT6jzEj",
      "include_colab_link": true
    },
    "kernelspec": {
      "name": "python3",
      "display_name": "Python 3"
    },
    "language_info": {
      "name": "python"
    }
  },
  "cells": [
    {
      "cell_type": "markdown",
      "metadata": {
        "id": "view-in-github",
        "colab_type": "text"
      },
      "source": [
        "<a href=\"https://colab.research.google.com/github/kianakiaei/TensorFlow/blob/main/01_neural_network_regression_with_tensorflow_.ipynb\" target=\"_parent\"><img src=\"https://colab.research.google.com/assets/colab-badge.svg\" alt=\"Open In Colab\"/></a>"
      ]
    },
    {
      "cell_type": "markdown",
      "metadata": {
        "id": "-eGRKSfAoC8x"
      },
      "source": [
        "# Introduction to regression with Neural Networks in TensorFlow\n",
        "\n",
        "There are many definitions for a regression problem but in our case, we're going to simplify it: predicting a numerical variable based on some other combination of variables, even shorter... predicting a number."
      ]
    },
    {
      "cell_type": "code",
      "metadata": {
        "colab": {
          "base_uri": "https://localhost:8080/"
        },
        "id": "SWyW2IeUpLz1",
        "outputId": "0dfe5c5e-2cec-4e4f-e3f8-c619218fdd32"
      },
      "source": [
        "# Import TensorFlow\n",
        "import tensorflow as tf\n",
        "print(tf.__version__)"
      ],
      "execution_count": 1,
      "outputs": [
        {
          "output_type": "stream",
          "text": [
            "2.6.0\n"
          ],
          "name": "stdout"
        }
      ]
    },
    {
      "cell_type": "markdown",
      "metadata": {
        "id": "9wMN7Ojwp0rk"
      },
      "source": [
        "## Creating data to view and fit"
      ]
    },
    {
      "cell_type": "code",
      "metadata": {
        "colab": {
          "base_uri": "https://localhost:8080/",
          "height": 268
        },
        "id": "minO0yGmpj0W",
        "outputId": "3865037a-5851-477f-dd85-d28ccabc1911"
      },
      "source": [
        "import numpy as np\n",
        "import matplotlib.pyplot as plt\n",
        "\n",
        "# Create features\n",
        "x = np.array([-7.0, -4.0, -1.0, 2.0, 5.0, 8.0, 11.0, 14.0])\n",
        "\n",
        "# Create labels\n",
        "y = np.array([3.0, 6.0, 9.0, 12.0, 15.0, 18.0, 21.0, 24.0])\n",
        "\n",
        "# Visualize it\n",
        "plt.scatter(x, y);"
      ],
      "execution_count": 2,
      "outputs": [
        {
          "output_type": "display_data",
          "data": {
            "image/png": "[encoded data removed]",
            "text/plain": [
              "<Figure size 432x288 with 1 Axes>"
            ]
          },
          "metadata": {
            "needs_background": "light"
          }
        }
      ]
    },
    {
      "cell_type": "code",
      "metadata": {
        "colab": {
          "base_uri": "https://localhost:8080/"
        },
        "id": "KxeXG87lpyM_",
        "outputId": "a9e23fd8-39aa-4947-9317-dd60268fec12"
      },
      "source": [
        "y == x + 10"
      ],
      "execution_count": 3,
      "outputs": [
        {
          "output_type": "execute_result",
          "data": {
            "text/plain": [
              "array([ True,  True,  True,  True,  True,  True,  True,  True])"
            ]
          },
          "metadata": {},
          "execution_count": 3
        }
      ]
    },
    {
      "cell_type": "markdown",
      "metadata": {
        "id": "TRKcu3G-u91B"
      },
      "source": [
        "## Input and output shapes\n",
        "\n"
      ]
    },
    {
      "cell_type": "code",
      "metadata": {
        "colab": {
          "base_uri": "https://localhost:8080/"
        },
        "id": "nGpp3O4fu4Ku",
        "outputId": "af30f83f-3bfd-4800-b349-f75def85f8a6"
      },
      "source": [
        "# Create a demo tensor for our housing price prediction problem\n",
        "house_info = tf.constant([\"bedroom\", \"bathroom\", \"garage\"])\n",
        "house_price = tf.constant([939700])\n",
        "\n",
        "house_info, house_price"
      ],
      "execution_count": 4,
      "outputs": [
        {
          "output_type": "execute_result",
          "data": {
            "text/plain": [
              "(<tf.Tensor: shape=(3,), dtype=string, numpy=array([b'bedroom', b'bathroom', b'garage'], dtype=object)>,\n",
              " <tf.Tensor: shape=(1,), dtype=int32, numpy=array([939700], dtype=int32)>)"
            ]
          },
          "metadata": {},
          "execution_count": 4
        }
      ]
    },
    {
      "cell_type": "code",
      "metadata": {
        "colab": {
          "base_uri": "https://localhost:8080/"
        },
        "id": "w_oY6iM3wPDH",
        "outputId": "27982ddc-79f1-4af5-9016-9c82c8928969"
      },
      "source": [
        "input_shape = x[0].shape\n",
        "output_shape = y[0].shape\n",
        "\n",
        "input_shape, output_shape"
      ],
      "execution_count": 5,
      "outputs": [
        {
          "output_type": "execute_result",
          "data": {
            "text/plain": [
              "((), ())"
            ]
          },
          "metadata": {},
          "execution_count": 5
        }
      ]
    },
    {
      "cell_type": "code",
      "metadata": {
        "colab": {
          "base_uri": "https://localhost:8080/"
        },
        "id": "vsvcZJc_we98",
        "outputId": "9018cb6d-b4c0-4dfe-a937-9d3dd179c1d2"
      },
      "source": [
        "x[0].ndim"
      ],
      "execution_count": 6,
      "outputs": [
        {
          "output_type": "execute_result",
          "data": {
            "text/plain": [
              "0"
            ]
          },
          "metadata": {},
          "execution_count": 6
        }
      ]
    },
    {
      "cell_type": "code",
      "metadata": {
        "colab": {
          "base_uri": "https://localhost:8080/"
        },
        "id": "O3wewRYWxLka",
        "outputId": "c21c31d4-078b-464f-d7d4-37465778ea5a"
      },
      "source": [
        "# Turn our NumPy arrays into tensors\n",
        "\n",
        "x = tf.constant(x)\n",
        "y = tf.constant(y)\n",
        "\n",
        "x, y"
      ],
      "execution_count": 7,
      "outputs": [
        {
          "output_type": "execute_result",
          "data": {
            "text/plain": [
              "(<tf.Tensor: shape=(8,), dtype=float64, numpy=array([-7., -4., -1.,  2.,  5.,  8., 11., 14.])>,\n",
              " <tf.Tensor: shape=(8,), dtype=float64, numpy=array([ 3.,  6.,  9., 12., 15., 18., 21., 24.])>)"
            ]
          },
          "metadata": {},
          "execution_count": 7
        }
      ]
    },
    {
      "cell_type": "code",
      "metadata": {
        "colab": {
          "base_uri": "https://localhost:8080/"
        },
        "id": "T7T1S16a0uNd",
        "outputId": "5e9f85a7-8bb5-4f8d-ca0d-f27990b89da2"
      },
      "source": [
        "input_shape = x[0].shape\n",
        "output_shape = y[0].shape\n",
        "\n",
        "input_shape, output_shape"
      ],
      "execution_count": 8,
      "outputs": [
        {
          "output_type": "execute_result",
          "data": {
            "text/plain": [
              "(TensorShape([]), TensorShape([]))"
            ]
          },
          "metadata": {},
          "execution_count": 8
        }
      ]
    },
    {
      "cell_type": "code",
      "metadata": {
        "colab": {
          "base_uri": "https://localhost:8080/",
          "height": 285
        },
        "id": "myMr_prz06P3",
        "outputId": "2ef33446-7971-439e-bc59-c69188db024a"
      },
      "source": [
        "plt.scatter(x, y)"
      ],
      "execution_count": 9,
      "outputs": [
        {
          "output_type": "execute_result",
          "data": {
            "text/plain": [
              "<matplotlib.collections.PathCollection at 0x7f0caf54ed90>"
            ]
          },
          "metadata": {},
          "execution_count": 9
        },
        {
          "output_type": "display_data",
          "data": {
            "image/png": "[encoded data removed]",
            "text/plain": [
              "<Figure size 432x288 with 1 Axes>"
            ]
          },
          "metadata": {
            "needs_background": "light"
          }
        }
      ]
    },
    {
      "cell_type": "markdown",
      "metadata": {
        "id": "HgoKNtHkNgDj"
      },
      "source": [
        "## Step in modeling with TensorFlow\n",
        "\n",
        "1. **Creating a model** - define the input and output layers, as well as the hiddem layers of a deep learning model.\n",
        "2. **Compiling a model** - define the loss function (in others word, the function with tells our model how wrong it is) and the optimizer (tells our model how to improve the patterns its learning) and evaluation metrics (what we can use to interpret the performance of our model\n",
        "3. **Fitting a model** - letting the model try to find patterns between x & y (features and labels). "
      ]
    },
    {
      "cell_type": "code",
      "metadata": {
        "colab": {
          "base_uri": "https://localhost:8080/"
        },
        "id": "2Hh-S6y_1X2G",
        "outputId": "cd530ef1-5ed9-40f2-f7ee-44d260713afa"
      },
      "source": [
        "# Set random seed\n",
        "tf.random.set_seed(42)\n",
        "\n",
        "# 1. Create a model using the Sequential API\n",
        "model = tf.keras.Sequential([\n",
        "                             tf.keras.layers.Dense(1)\n",
        "\n",
        "])\n",
        "\n",
        "# 1. other way\n",
        "model1 = tf.keras.Sequential()\n",
        "model1.add(tf.keras.layers.Dense(1)) \n",
        "\n",
        "# 2. Compile the model\n",
        "model.compile(loss=tf.keras.losses.mae, # mae is short for mean absolute error\n",
        "              # or loss=\"mae\"\n",
        "              optimizer=tf.keras.optimizers.SGD(), # sgd is short for stochastic gradient descent)\n",
        "              metrics=[\"mae\"])\n",
        "\n",
        "# 3. Fit the model\n",
        "model.fit(x, y, epochs=5)"
      ],
      "execution_count": 10,
      "outputs": [
        {
          "output_type": "stream",
          "text": [
            "Epoch 1/5\n",
            "1/1 [==============================] - 1s 670ms/step - loss: 11.5048 - mae: 11.5048\n",
            "Epoch 2/5\n",
            "1/1 [==============================] - 0s 7ms/step - loss: 11.3723 - mae: 11.3723\n",
            "Epoch 3/5\n",
            "1/1 [==============================] - 0s 8ms/step - loss: 11.2398 - mae: 11.2398\n",
            "Epoch 4/5\n",
            "1/1 [==============================] - 0s 6ms/step - loss: 11.1073 - mae: 11.1073\n",
            "Epoch 5/5\n",
            "1/1 [==============================] - 0s 7ms/step - loss: 10.9748 - mae: 10.9748\n"
          ],
          "name": "stdout"
        },
        {
          "output_type": "execute_result",
          "data": {
            "text/plain": [
              "<keras.callbacks.History at 0x7f0caae87510>"
            ]
          },
          "metadata": {},
          "execution_count": 10
        }
      ]
    },
    {
      "cell_type": "code",
      "metadata": {
        "colab": {
          "base_uri": "https://localhost:8080/"
        },
        "id": "4xKw1tsebfGk",
        "outputId": "81887a15-c71e-4789-b5ec-92652f6a7073"
      },
      "source": [
        "# Check out x and y\n",
        "x, y"
      ],
      "execution_count": 11,
      "outputs": [
        {
          "output_type": "execute_result",
          "data": {
            "text/plain": [
              "(<tf.Tensor: shape=(8,), dtype=float64, numpy=array([-7., -4., -1.,  2.,  5.,  8., 11., 14.])>,\n",
              " <tf.Tensor: shape=(8,), dtype=float64, numpy=array([ 3.,  6.,  9., 12., 15., 18., 21., 24.])>)"
            ]
          },
          "metadata": {},
          "execution_count": 11
        }
      ]
    },
    {
      "cell_type": "code",
      "metadata": {
        "colab": {
          "base_uri": "https://localhost:8080/"
        },
        "id": "JZfWmEmDfI0y",
        "outputId": "d5d19262-d120-4ac1-ed82-47962286d5e4"
      },
      "source": [
        "# Try and make a prediction using our model\n",
        "y_pred = model.predict([17.0])\n",
        "y_pred"
      ],
      "execution_count": 12,
      "outputs": [
        {
          "output_type": "execute_result",
          "data": {
            "text/plain": [
              "array([[12.716021]], dtype=float32)"
            ]
          },
          "metadata": {},
          "execution_count": 12
        }
      ]
    },
    {
      "cell_type": "markdown",
      "metadata": {
        "id": "C7EitFIXllfO"
      },
      "source": [
        "## Improving our model\n",
        "\n",
        "We can improve our model, by altering the steps we took to create a model.\n",
        "\n",
        "1. **Creating a model** -  Here we might add more layers, increase the number of hidden units (All called neurons) within each of the hidden layers, change the activation function of each layer.\n",
        "2. **Comiling a model** - Here we might change the optimization function or perhaps the **leaning rate** of the optimization function.\n",
        "3. **Fitting a model** - Here we might fit a model for more **epochs** (leave it training for longer) or on more data (give the model more examples to learn from)."
      ]
    },
    {
      "cell_type": "markdown",
      "metadata": {
        "id": "eBEMovEfU7iV"
      },
      "source": [
        "We only make one change at a time\n",
        "\n",
        "**Common ways to improve a deep model:**\n",
        "* Adding layes\n",
        "* Increase the number of hidden units\n",
        "* Change the activation functions (bydefault is None)\n",
        "* Change the optimization functions\n",
        "* Change the learning rate (most important hyper parameter of many different neural networks)\n",
        "* Fitting on more data\n",
        "* Fitting for longer (increase epochs)"
      ]
    },
    {
      "cell_type": "code",
      "metadata": {
        "colab": {
          "base_uri": "https://localhost:8080/"
        },
        "id": "nY1xvlRnf3Dc",
        "outputId": "8aaec608-fe02-405d-dd0e-d74082b5fa42"
      },
      "source": [
        "# Let's rebuild our model\n",
        "\n",
        "# Set random seed\n",
        "tf.random.set_seed(42)\n",
        "\n",
        "# 1. Create a model using the Sequential API\n",
        "model = tf.keras.Sequential([\n",
        "                             tf.keras.layers.Dense(1)\n",
        "\n",
        "])\n",
        "\n",
        "# 2. Compile the model\n",
        "model.compile(loss=tf.keras.losses.mae, # mae is short for mean absolute error\n",
        "              optimizer=tf.keras.optimizers.SGD(), # sgd is short for stochastic gradient descent)\n",
        "              metrics=[\"mae\"])\n",
        "\n",
        "# 3. Fit the model\n",
        "model.fit(x, y, epochs=100)"
      ],
      "execution_count": 13,
      "outputs": [
        {
          "output_type": "stream",
          "text": [
            "Epoch 1/100\n",
            "1/1 [==============================] - 0s 305ms/step - loss: 11.5048 - mae: 11.5048\n",
            "Epoch 2/100\n",
            "1/1 [==============================] - 0s 6ms/step - loss: 11.3723 - mae: 11.3723\n",
            "Epoch 3/100\n",
            "1/1 [==============================] - 0s 5ms/step - loss: 11.2398 - mae: 11.2398\n",
            "Epoch 4/100\n",
            "1/1 [==============================] - 0s 6ms/step - loss: 11.1073 - mae: 11.1073\n",
            "Epoch 5/100\n",
            "1/1 [==============================] - 0s 4ms/step - loss: 10.9748 - mae: 10.9748\n",
            "Epoch 6/100\n",
            "1/1 [==============================] - 0s 7ms/step - loss: 10.8423 - mae: 10.8423\n",
            "Epoch 7/100\n",
            "1/1 [==============================] - 0s 4ms/step - loss: 10.7098 - mae: 10.7098\n",
            "Epoch 8/100\n",
            "1/1 [==============================] - 0s 3ms/step - loss: 10.5773 - mae: 10.5773\n",
            "Epoch 9/100\n",
            "1/1 [==============================] - 0s 5ms/step - loss: 10.4448 - mae: 10.4448\n",
            "Epoch 10/100\n",
            "1/1 [==============================] - 0s 6ms/step - loss: 10.3123 - mae: 10.3123\n",
            "Epoch 11/100\n",
            "1/1 [==============================] - 0s 6ms/step - loss: 10.1798 - mae: 10.1798\n",
            "Epoch 12/100\n",
            "1/1 [==============================] - 0s 6ms/step - loss: 10.0473 - mae: 10.0473\n",
            "Epoch 13/100\n",
            "1/1 [==============================] - 0s 6ms/step - loss: 9.9148 - mae: 9.9148\n",
            "Epoch 14/100\n",
            "1/1 [==============================] - 0s 6ms/step - loss: 9.7823 - mae: 9.7823\n",
            "Epoch 15/100\n",
            "1/1 [==============================] - 0s 6ms/step - loss: 9.6498 - mae: 9.6498\n",
            "Epoch 16/100\n",
            "1/1 [==============================] - 0s 6ms/step - loss: 9.5173 - mae: 9.5173\n",
            "Epoch 17/100\n",
            "1/1 [==============================] - 0s 6ms/step - loss: 9.3848 - mae: 9.3848\n",
            "Epoch 18/100\n",
            "1/1 [==============================] - 0s 4ms/step - loss: 9.2523 - mae: 9.2523\n",
            "Epoch 19/100\n",
            "1/1 [==============================] - 0s 9ms/step - loss: 9.1198 - mae: 9.1198\n",
            "Epoch 20/100\n",
            "1/1 [==============================] - 0s 4ms/step - loss: 8.9873 - mae: 8.9873\n",
            "Epoch 21/100\n",
            "1/1 [==============================] - 0s 4ms/step - loss: 8.8548 - mae: 8.8548\n",
            "Epoch 22/100\n",
            "1/1 [==============================] - 0s 6ms/step - loss: 8.7223 - mae: 8.7223\n",
            "Epoch 23/100\n",
            "1/1 [==============================] - 0s 4ms/step - loss: 8.5898 - mae: 8.5898\n",
            "Epoch 24/100\n",
            "1/1 [==============================] - 0s 5ms/step - loss: 8.4573 - mae: 8.4573\n",
            "Epoch 25/100\n",
            "1/1 [==============================] - 0s 6ms/step - loss: 8.3248 - mae: 8.3248\n",
            "Epoch 26/100\n",
            "1/1 [==============================] - 0s 5ms/step - loss: 8.1923 - mae: 8.1923\n",
            "Epoch 27/100\n",
            "1/1 [==============================] - 0s 6ms/step - loss: 8.0598 - mae: 8.0598\n",
            "Epoch 28/100\n",
            "1/1 [==============================] - 0s 6ms/step - loss: 7.9273 - mae: 7.9273\n",
            "Epoch 29/100\n",
            "1/1 [==============================] - 0s 5ms/step - loss: 7.7948 - mae: 7.7948\n",
            "Epoch 30/100\n",
            "1/1 [==============================] - 0s 5ms/step - loss: 7.6623 - mae: 7.6623\n",
            "Epoch 31/100\n",
            "1/1 [==============================] - 0s 5ms/step - loss: 7.5298 - mae: 7.5298\n",
            "Epoch 32/100\n",
            "1/1 [==============================] - 0s 5ms/step - loss: 7.3973 - mae: 7.3973\n",
            "Epoch 33/100\n",
            "1/1 [==============================] - 0s 6ms/step - loss: 7.2648 - mae: 7.2648\n",
            "Epoch 34/100\n",
            "1/1 [==============================] - 0s 6ms/step - loss: 7.2525 - mae: 7.2525\n",
            "Epoch 35/100\n",
            "1/1 [==============================] - 0s 4ms/step - loss: 7.2469 - mae: 7.2469\n",
            "Epoch 36/100\n",
            "1/1 [==============================] - 0s 7ms/step - loss: 7.2413 - mae: 7.2413\n",
            "Epoch 37/100\n",
            "1/1 [==============================] - 0s 7ms/step - loss: 7.2356 - mae: 7.2356\n",
            "Epoch 38/100\n",
            "1/1 [==============================] - 0s 4ms/step - loss: 7.2300 - mae: 7.2300\n",
            "Epoch 39/100\n",
            "1/1 [==============================] - 0s 8ms/step - loss: 7.2244 - mae: 7.2244\n",
            "Epoch 40/100\n",
            "1/1 [==============================] - 0s 4ms/step - loss: 7.2188 - mae: 7.2188\n",
            "Epoch 41/100\n",
            "1/1 [==============================] - 0s 4ms/step - loss: 7.2131 - mae: 7.2131\n",
            "Epoch 42/100\n",
            "1/1 [==============================] - 0s 7ms/step - loss: 7.2075 - mae: 7.2075\n",
            "Epoch 43/100\n",
            "1/1 [==============================] - 0s 4ms/step - loss: 7.2019 - mae: 7.2019\n",
            "Epoch 44/100\n",
            "1/1 [==============================] - 0s 4ms/step - loss: 7.1963 - mae: 7.1963\n",
            "Epoch 45/100\n",
            "1/1 [==============================] - 0s 6ms/step - loss: 7.1906 - mae: 7.1906\n",
            "Epoch 46/100\n",
            "1/1 [==============================] - 0s 12ms/step - loss: 7.1850 - mae: 7.1850\n",
            "Epoch 47/100\n",
            "1/1 [==============================] - 0s 7ms/step - loss: 7.1794 - mae: 7.1794\n",
            "Epoch 48/100\n",
            "1/1 [==============================] - 0s 4ms/step - loss: 7.1738 - mae: 7.1738\n",
            "Epoch 49/100\n",
            "1/1 [==============================] - 0s 5ms/step - loss: 7.1681 - mae: 7.1681\n",
            "Epoch 50/100\n",
            "1/1 [==============================] - 0s 6ms/step - loss: 7.1625 - mae: 7.1625\n",
            "Epoch 51/100\n",
            "1/1 [==============================] - 0s 7ms/step - loss: 7.1569 - mae: 7.1569\n",
            "Epoch 52/100\n",
            "1/1 [==============================] - 0s 5ms/step - loss: 7.1512 - mae: 7.1512\n",
            "Epoch 53/100\n",
            "1/1 [==============================] - 0s 5ms/step - loss: 7.1456 - mae: 7.1456\n",
            "Epoch 54/100\n",
            "1/1 [==============================] - 0s 7ms/step - loss: 7.1400 - mae: 7.1400\n",
            "Epoch 55/100\n",
            "1/1 [==============================] - 0s 4ms/step - loss: 7.1344 - mae: 7.1344\n",
            "Epoch 56/100\n",
            "1/1 [==============================] - 0s 9ms/step - loss: 7.1287 - mae: 7.1287\n",
            "Epoch 57/100\n",
            "1/1 [==============================] - 0s 6ms/step - loss: 7.1231 - mae: 7.1231\n",
            "Epoch 58/100\n",
            "1/1 [==============================] - 0s 9ms/step - loss: 7.1175 - mae: 7.1175\n",
            "Epoch 59/100\n",
            "1/1 [==============================] - 0s 5ms/step - loss: 7.1119 - mae: 7.1119\n",
            "Epoch 60/100\n",
            "1/1 [==============================] - 0s 5ms/step - loss: 7.1063 - mae: 7.1063\n",
            "Epoch 61/100\n",
            "1/1 [==============================] - 0s 6ms/step - loss: 7.1006 - mae: 7.1006\n",
            "Epoch 62/100\n",
            "1/1 [==============================] - 0s 7ms/step - loss: 7.0950 - mae: 7.0950\n",
            "Epoch 63/100\n",
            "1/1 [==============================] - 0s 4ms/step - loss: 7.0894 - mae: 7.0894\n",
            "Epoch 64/100\n",
            "1/1 [==============================] - 0s 4ms/step - loss: 7.0838 - mae: 7.0838\n",
            "Epoch 65/100\n",
            "1/1 [==============================] - 0s 7ms/step - loss: 7.0781 - mae: 7.0781\n",
            "Epoch 66/100\n",
            "1/1 [==============================] - 0s 6ms/step - loss: 7.0725 - mae: 7.0725\n",
            "Epoch 67/100\n",
            "1/1 [==============================] - 0s 4ms/step - loss: 7.0669 - mae: 7.0669\n",
            "Epoch 68/100\n",
            "1/1 [==============================] - 0s 7ms/step - loss: 7.0613 - mae: 7.0613\n",
            "Epoch 69/100\n",
            "1/1 [==============================] - 0s 4ms/step - loss: 7.0556 - mae: 7.0556\n",
            "Epoch 70/100\n",
            "1/1 [==============================] - 0s 5ms/step - loss: 7.0500 - mae: 7.0500\n",
            "Epoch 71/100\n",
            "1/1 [==============================] - 0s 7ms/step - loss: 7.0444 - mae: 7.0444\n",
            "Epoch 72/100\n",
            "1/1 [==============================] - 0s 5ms/step - loss: 7.0388 - mae: 7.0388\n",
            "Epoch 73/100\n",
            "1/1 [==============================] - 0s 8ms/step - loss: 7.0331 - mae: 7.0331\n",
            "Epoch 74/100\n",
            "1/1 [==============================] - 0s 4ms/step - loss: 7.0275 - mae: 7.0275\n",
            "Epoch 75/100\n",
            "1/1 [==============================] - 0s 4ms/step - loss: 7.0219 - mae: 7.0219\n",
            "Epoch 76/100\n",
            "1/1 [==============================] - 0s 6ms/step - loss: 7.0163 - mae: 7.0163\n",
            "Epoch 77/100\n",
            "1/1 [==============================] - 0s 9ms/step - loss: 7.0106 - mae: 7.0106\n",
            "Epoch 78/100\n",
            "1/1 [==============================] - 0s 9ms/step - loss: 7.0050 - mae: 7.0050\n",
            "Epoch 79/100\n",
            "1/1 [==============================] - 0s 7ms/step - loss: 6.9994 - mae: 6.9994\n",
            "Epoch 80/100\n",
            "1/1 [==============================] - 0s 7ms/step - loss: 6.9938 - mae: 6.9938\n",
            "Epoch 81/100\n",
            "1/1 [==============================] - 0s 5ms/step - loss: 6.9881 - mae: 6.9881\n",
            "Epoch 82/100\n",
            "1/1 [==============================] - 0s 4ms/step - loss: 6.9825 - mae: 6.9825\n",
            "Epoch 83/100\n",
            "1/1 [==============================] - 0s 4ms/step - loss: 6.9769 - mae: 6.9769\n",
            "Epoch 84/100\n",
            "1/1 [==============================] - 0s 5ms/step - loss: 6.9713 - mae: 6.9713\n",
            "Epoch 85/100\n",
            "1/1 [==============================] - 0s 6ms/step - loss: 6.9656 - mae: 6.9656\n",
            "Epoch 86/100\n",
            "1/1 [==============================] - 0s 7ms/step - loss: 6.9600 - mae: 6.9600\n",
            "Epoch 87/100\n",
            "1/1 [==============================] - 0s 4ms/step - loss: 6.9544 - mae: 6.9544\n",
            "Epoch 88/100\n",
            "1/1 [==============================] - 0s 7ms/step - loss: 6.9488 - mae: 6.9488\n",
            "Epoch 89/100\n",
            "1/1 [==============================] - 0s 6ms/step - loss: 6.9431 - mae: 6.9431\n",
            "Epoch 90/100\n",
            "1/1 [==============================] - 0s 6ms/step - loss: 6.9375 - mae: 6.9375\n",
            "Epoch 91/100\n",
            "1/1 [==============================] - 0s 20ms/step - loss: 6.9319 - mae: 6.9319\n",
            "Epoch 92/100\n",
            "1/1 [==============================] - 0s 5ms/step - loss: 6.9263 - mae: 6.9263\n",
            "Epoch 93/100\n",
            "1/1 [==============================] - 0s 4ms/step - loss: 6.9206 - mae: 6.9206\n",
            "Epoch 94/100\n",
            "1/1 [==============================] - 0s 5ms/step - loss: 6.9150 - mae: 6.9150\n",
            "Epoch 95/100\n",
            "1/1 [==============================] - 0s 5ms/step - loss: 6.9094 - mae: 6.9094\n",
            "Epoch 96/100\n",
            "1/1 [==============================] - 0s 7ms/step - loss: 6.9038 - mae: 6.9038\n",
            "Epoch 97/100\n",
            "1/1 [==============================] - 0s 4ms/step - loss: 6.8981 - mae: 6.8981\n",
            "Epoch 98/100\n",
            "1/1 [==============================] - 0s 11ms/step - loss: 6.8925 - mae: 6.8925\n",
            "Epoch 99/100\n",
            "1/1 [==============================] - 0s 4ms/step - loss: 6.8869 - mae: 6.8869\n",
            "Epoch 100/100\n",
            "1/1 [==============================] - 0s 4ms/step - loss: 6.8813 - mae: 6.8813\n"
          ],
          "name": "stdout"
        },
        {
          "output_type": "execute_result",
          "data": {
            "text/plain": [
              "<keras.callbacks.History at 0x7f0ca95fe710>"
            ]
          },
          "metadata": {},
          "execution_count": 13
        }
      ]
    },
    {
      "cell_type": "code",
      "metadata": {
        "colab": {
          "base_uri": "https://localhost:8080/"
        },
        "id": "sDJ4dDUnR88q",
        "outputId": "03b14ada-61e0-44ba-b133-d12dc19b6cce"
      },
      "source": [
        "# Remind ourselves of the data\n",
        "x, y"
      ],
      "execution_count": 14,
      "outputs": [
        {
          "output_type": "execute_result",
          "data": {
            "text/plain": [
              "(<tf.Tensor: shape=(8,), dtype=float64, numpy=array([-7., -4., -1.,  2.,  5.,  8., 11., 14.])>,\n",
              " <tf.Tensor: shape=(8,), dtype=float64, numpy=array([ 3.,  6.,  9., 12., 15., 18., 21., 24.])>)"
            ]
          },
          "metadata": {},
          "execution_count": 14
        }
      ]
    },
    {
      "cell_type": "code",
      "metadata": {
        "colab": {
          "base_uri": "https://localhost:8080/"
        },
        "id": "XJ-4poP1Sb14",
        "outputId": "fbf83c4c-bcea-4bd1-a023-372c1fdd2cb0"
      },
      "source": [
        "# Let's see if our model's prediction has improved...\n",
        "model.predict([17.0])"
      ],
      "execution_count": 15,
      "outputs": [
        {
          "output_type": "execute_result",
          "data": {
            "text/plain": [
              "array([[30.158512]], dtype=float32)"
            ]
          },
          "metadata": {},
          "execution_count": 15
        }
      ]
    },
    {
      "cell_type": "code",
      "metadata": {
        "colab": {
          "base_uri": "https://localhost:8080/"
        },
        "id": "ODGvluKGSoEr",
        "outputId": "f53bc244-d1d5-4f49-ca99-9de8bffa4a31"
      },
      "source": [
        "# Let's see if we can make another to improve our model\n",
        "\n",
        "# Set random seed\n",
        "tf.random.set_seed(42)\n",
        "\n",
        "# 1. Create a model (This time with an extra layer with 100 hidden units)\n",
        "model = tf.keras.Sequential([\n",
        "                             tf.keras.layers.Dense(100, activation=\"relu\"),\n",
        "                             tf.keras.layers.Dense(1)\n",
        "\n",
        "\n",
        "])\n",
        "\n",
        "# 2. Compile the model\n",
        "model.compile(loss=tf.keras.losses.mae, \n",
        "              optimizer=tf.keras.optimizers.SGD(),\n",
        "              metrics=[\"mae\"])\n",
        "\n",
        "# 3. Fit the model\n",
        "model.fit(x, y, epochs=100)"
      ],
      "execution_count": 16,
      "outputs": [
        {
          "output_type": "stream",
          "text": [
            "Epoch 1/100\n",
            "1/1 [==============================] - 0s 353ms/step - loss: 12.3185 - mae: 12.3185\n",
            "Epoch 2/100\n",
            "1/1 [==============================] - 0s 11ms/step - loss: 11.7696 - mae: 11.7696\n",
            "Epoch 3/100\n",
            "1/1 [==============================] - 0s 6ms/step - loss: 11.2132 - mae: 11.2132\n",
            "Epoch 4/100\n",
            "1/1 [==============================] - 0s 5ms/step - loss: 10.6444 - mae: 10.6444\n",
            "Epoch 5/100\n",
            "1/1 [==============================] - 0s 5ms/step - loss: 10.0534 - mae: 10.0534\n",
            "Epoch 6/100\n",
            "1/1 [==============================] - 0s 5ms/step - loss: 9.4344 - mae: 9.4344\n",
            "Epoch 7/100\n",
            "1/1 [==============================] - 0s 5ms/step - loss: 8.7821 - mae: 8.7821\n",
            "Epoch 8/100\n",
            "1/1 [==============================] - 0s 6ms/step - loss: 8.0881 - mae: 8.0881\n",
            "Epoch 9/100\n",
            "1/1 [==============================] - 0s 15ms/step - loss: 7.3552 - mae: 7.3552\n",
            "Epoch 10/100\n",
            "1/1 [==============================] - 0s 6ms/step - loss: 6.5787 - mae: 6.5787\n",
            "Epoch 11/100\n",
            "1/1 [==============================] - 0s 5ms/step - loss: 5.7437 - mae: 5.7437\n",
            "Epoch 12/100\n",
            "1/1 [==============================] - 0s 12ms/step - loss: 4.8395 - mae: 4.8395\n",
            "Epoch 13/100\n",
            "1/1 [==============================] - 0s 5ms/step - loss: 4.1104 - mae: 4.1104\n",
            "Epoch 14/100\n",
            "1/1 [==============================] - 0s 6ms/step - loss: 4.0143 - mae: 4.0143\n",
            "Epoch 15/100\n",
            "1/1 [==============================] - 0s 8ms/step - loss: 3.9156 - mae: 3.9156\n",
            "Epoch 16/100\n",
            "1/1 [==============================] - 0s 5ms/step - loss: 3.9722 - mae: 3.9722\n",
            "Epoch 17/100\n",
            "1/1 [==============================] - 0s 5ms/step - loss: 3.9044 - mae: 3.9044\n",
            "Epoch 18/100\n",
            "1/1 [==============================] - 0s 8ms/step - loss: 3.9636 - mae: 3.9636\n",
            "Epoch 19/100\n",
            "1/1 [==============================] - 0s 5ms/step - loss: 3.9191 - mae: 3.9191\n",
            "Epoch 20/100\n",
            "1/1 [==============================] - 0s 5ms/step - loss: 3.9452 - mae: 3.9452\n",
            "Epoch 21/100\n",
            "1/1 [==============================] - 0s 5ms/step - loss: 3.9259 - mae: 3.9259\n",
            "Epoch 22/100\n",
            "1/1 [==============================] - 0s 5ms/step - loss: 3.9194 - mae: 3.9194\n",
            "Epoch 23/100\n",
            "1/1 [==============================] - 0s 5ms/step - loss: 3.9328 - mae: 3.9328\n",
            "Epoch 24/100\n",
            "1/1 [==============================] - 0s 6ms/step - loss: 3.8934 - mae: 3.8934\n",
            "Epoch 25/100\n",
            "1/1 [==============================] - 0s 5ms/step - loss: 3.9399 - mae: 3.9399\n",
            "Epoch 26/100\n",
            "1/1 [==============================] - 0s 5ms/step - loss: 3.8726 - mae: 3.8726\n",
            "Epoch 27/100\n",
            "1/1 [==============================] - 0s 5ms/step - loss: 3.9469 - mae: 3.9469\n",
            "Epoch 28/100\n",
            "1/1 [==============================] - 0s 4ms/step - loss: 3.8875 - mae: 3.8875\n",
            "Epoch 29/100\n",
            "1/1 [==============================] - 0s 5ms/step - loss: 3.9223 - mae: 3.9223\n",
            "Epoch 30/100\n",
            "1/1 [==============================] - 0s 5ms/step - loss: 3.8945 - mae: 3.8945\n",
            "Epoch 31/100\n",
            "1/1 [==============================] - 0s 5ms/step - loss: 3.8962 - mae: 3.8962\n",
            "Epoch 32/100\n",
            "1/1 [==============================] - 0s 5ms/step - loss: 3.9016 - mae: 3.9016\n",
            "Epoch 33/100\n",
            "1/1 [==============================] - 0s 4ms/step - loss: 3.8700 - mae: 3.8700\n",
            "Epoch 34/100\n",
            "1/1 [==============================] - 0s 5ms/step - loss: 3.9089 - mae: 3.9089\n",
            "Epoch 35/100\n",
            "1/1 [==============================] - 0s 5ms/step - loss: 3.8473 - mae: 3.8473\n",
            "Epoch 36/100\n",
            "1/1 [==============================] - 0s 5ms/step - loss: 3.9242 - mae: 3.9242\n",
            "Epoch 37/100\n",
            "1/1 [==============================] - 0s 5ms/step - loss: 3.8570 - mae: 3.8570\n",
            "Epoch 38/100\n",
            "1/1 [==============================] - 0s 4ms/step - loss: 3.8981 - mae: 3.8981\n",
            "Epoch 39/100\n",
            "1/1 [==============================] - 0s 4ms/step - loss: 3.8642 - mae: 3.8642\n",
            "Epoch 40/100\n",
            "1/1 [==============================] - 0s 5ms/step - loss: 3.8718 - mae: 3.8718\n",
            "Epoch 41/100\n",
            "1/1 [==============================] - 0s 5ms/step - loss: 3.8715 - mae: 3.8715\n",
            "Epoch 42/100\n",
            "1/1 [==============================] - 0s 5ms/step - loss: 3.8453 - mae: 3.8453\n",
            "Epoch 43/100\n",
            "1/1 [==============================] - 0s 5ms/step - loss: 3.8800 - mae: 3.8800\n",
            "Epoch 44/100\n",
            "1/1 [==============================] - 0s 5ms/step - loss: 3.8260 - mae: 3.8260\n",
            "Epoch 45/100\n",
            "1/1 [==============================] - 0s 4ms/step - loss: 3.8944 - mae: 3.8944\n",
            "Epoch 46/100\n",
            "1/1 [==============================] - 0s 5ms/step - loss: 3.8276 - mae: 3.8276\n",
            "Epoch 47/100\n",
            "1/1 [==============================] - 0s 5ms/step - loss: 3.8726 - mae: 3.8726\n",
            "Epoch 48/100\n",
            "1/1 [==============================] - 0s 4ms/step - loss: 3.8350 - mae: 3.8350\n",
            "Epoch 49/100\n",
            "1/1 [==============================] - 0s 5ms/step - loss: 3.8461 - mae: 3.8461\n",
            "Epoch 50/100\n",
            "1/1 [==============================] - 0s 5ms/step - loss: 3.8426 - mae: 3.8426\n",
            "Epoch 51/100\n",
            "1/1 [==============================] - 0s 5ms/step - loss: 3.8194 - mae: 3.8194\n",
            "Epoch 52/100\n",
            "1/1 [==============================] - 0s 5ms/step - loss: 3.8563 - mae: 3.8563\n",
            "Epoch 53/100\n",
            "1/1 [==============================] - 0s 5ms/step - loss: 3.7997 - mae: 3.7997\n",
            "Epoch 54/100\n",
            "1/1 [==============================] - 0s 6ms/step - loss: 3.8659 - mae: 3.8659\n",
            "Epoch 55/100\n",
            "1/1 [==============================] - 0s 6ms/step - loss: 3.7994 - mae: 3.7994\n",
            "Epoch 56/100\n",
            "1/1 [==============================] - 0s 5ms/step - loss: 3.8460 - mae: 3.8460\n",
            "Epoch 57/100\n",
            "1/1 [==============================] - 0s 5ms/step - loss: 3.8070 - mae: 3.8070\n",
            "Epoch 58/100\n",
            "1/1 [==============================] - 0s 7ms/step - loss: 3.8191 - mae: 3.8191\n",
            "Epoch 59/100\n",
            "1/1 [==============================] - 0s 6ms/step - loss: 3.8148 - mae: 3.8148\n",
            "Epoch 60/100\n",
            "1/1 [==============================] - 0s 7ms/step - loss: 3.7959 - mae: 3.7959\n",
            "Epoch 61/100\n",
            "1/1 [==============================] - 0s 5ms/step - loss: 3.8305 - mae: 3.8305\n",
            "Epoch 62/100\n",
            "1/1 [==============================] - 0s 5ms/step - loss: 3.7721 - mae: 3.7721\n",
            "Epoch 63/100\n",
            "1/1 [==============================] - 0s 5ms/step - loss: 3.8384 - mae: 3.8384\n",
            "Epoch 64/100\n",
            "1/1 [==============================] - 0s 5ms/step - loss: 3.7722 - mae: 3.7722\n",
            "Epoch 65/100\n",
            "1/1 [==============================] - 0s 5ms/step - loss: 3.8180 - mae: 3.8180\n",
            "Epoch 66/100\n",
            "1/1 [==============================] - 0s 4ms/step - loss: 3.7800 - mae: 3.7800\n",
            "Epoch 67/100\n",
            "1/1 [==============================] - 0s 4ms/step - loss: 3.7908 - mae: 3.7908\n",
            "Epoch 68/100\n",
            "1/1 [==============================] - 0s 5ms/step - loss: 3.7888 - mae: 3.7888\n",
            "Epoch 69/100\n",
            "1/1 [==============================] - 0s 5ms/step - loss: 3.7707 - mae: 3.7707\n",
            "Epoch 70/100\n",
            "1/1 [==============================] - 0s 4ms/step - loss: 3.8038 - mae: 3.8038\n",
            "Epoch 71/100\n",
            "1/1 [==============================] - 0s 14ms/step - loss: 3.7432 - mae: 3.7432\n",
            "Epoch 72/100\n",
            "1/1 [==============================] - 0s 15ms/step - loss: 3.8120 - mae: 3.8120\n",
            "Epoch 73/100\n",
            "1/1 [==============================] - 0s 5ms/step - loss: 3.7460 - mae: 3.7460\n",
            "Epoch 74/100\n",
            "1/1 [==============================] - 0s 5ms/step - loss: 3.7888 - mae: 3.7888\n",
            "Epoch 75/100\n",
            "1/1 [==============================] - 0s 5ms/step - loss: 3.7540 - mae: 3.7540\n",
            "Epoch 76/100\n",
            "1/1 [==============================] - 0s 5ms/step - loss: 3.7613 - mae: 3.7613\n",
            "Epoch 77/100\n",
            "1/1 [==============================] - 0s 5ms/step - loss: 3.7677 - mae: 3.7677\n",
            "Epoch 78/100\n",
            "1/1 [==============================] - 0s 5ms/step - loss: 3.7409 - mae: 3.7409\n",
            "Epoch 79/100\n",
            "1/1 [==============================] - 0s 5ms/step - loss: 3.7782 - mae: 3.7782\n",
            "Epoch 80/100\n",
            "1/1 [==============================] - 0s 5ms/step - loss: 3.7131 - mae: 3.7131\n",
            "Epoch 81/100\n",
            "1/1 [==============================] - 0s 5ms/step - loss: 3.7865 - mae: 3.7865\n",
            "Epoch 82/100\n",
            "1/1 [==============================] - 0s 5ms/step - loss: 3.7208 - mae: 3.7208\n",
            "Epoch 83/100\n",
            "1/1 [==============================] - 0s 5ms/step - loss: 3.7583 - mae: 3.7583\n",
            "Epoch 84/100\n",
            "1/1 [==============================] - 0s 7ms/step - loss: 3.7290 - mae: 3.7290\n",
            "Epoch 85/100\n",
            "1/1 [==============================] - 0s 5ms/step - loss: 3.7335 - mae: 3.7335\n",
            "Epoch 86/100\n",
            "1/1 [==============================] - 0s 6ms/step - loss: 3.7451 - mae: 3.7451\n",
            "Epoch 87/100\n",
            "1/1 [==============================] - 0s 5ms/step - loss: 3.7097 - mae: 3.7097\n",
            "Epoch 88/100\n",
            "1/1 [==============================] - 0s 5ms/step - loss: 3.7536 - mae: 3.7536\n",
            "Epoch 89/100\n",
            "1/1 [==============================] - 0s 5ms/step - loss: 3.6883 - mae: 3.6883\n",
            "Epoch 90/100\n",
            "1/1 [==============================] - 0s 6ms/step - loss: 3.7544 - mae: 3.7544\n",
            "Epoch 91/100\n",
            "1/1 [==============================] - 0s 5ms/step - loss: 3.6966 - mae: 3.6966\n",
            "Epoch 92/100\n",
            "1/1 [==============================] - 0s 5ms/step - loss: 3.7264 - mae: 3.7264\n",
            "Epoch 93/100\n",
            "1/1 [==============================] - 0s 5ms/step - loss: 3.7051 - mae: 3.7051\n",
            "Epoch 94/100\n",
            "1/1 [==============================] - 0s 7ms/step - loss: 3.7057 - mae: 3.7057\n",
            "Epoch 95/100\n",
            "1/1 [==============================] - 0s 5ms/step - loss: 3.7214 - mae: 3.7214\n",
            "Epoch 96/100\n",
            "1/1 [==============================] - 0s 5ms/step - loss: 3.6772 - mae: 3.6772\n",
            "Epoch 97/100\n",
            "1/1 [==============================] - 0s 7ms/step - loss: 3.7300 - mae: 3.7300\n",
            "Epoch 98/100\n",
            "1/1 [==============================] - 0s 5ms/step - loss: 3.6649 - mae: 3.6649\n",
            "Epoch 99/100\n",
            "1/1 [==============================] - 0s 3ms/step - loss: 3.7216 - mae: 3.7216\n",
            "Epoch 100/100\n",
            "1/1 [==============================] - 0s 5ms/step - loss: 3.6734 - mae: 3.6734\n"
          ],
          "name": "stdout"
        },
        {
          "output_type": "execute_result",
          "data": {
            "text/plain": [
              "<keras.callbacks.History at 0x7f0caa4af790>"
            ]
          },
          "metadata": {},
          "execution_count": 16
        }
      ]
    },
    {
      "cell_type": "code",
      "metadata": {
        "colab": {
          "base_uri": "https://localhost:8080/"
        },
        "id": "tiojjmbRU-X7",
        "outputId": "d5ebae53-2841-4a81-dbce-be078faa0892"
      },
      "source": [
        "# Let's see if our model's prediction has improved...\n",
        "model.predict([17.0])\n",
        "\n",
        "# Previous model did better although mae is less here\n",
        "# Our model is over fitting"
      ],
      "execution_count": 17,
      "outputs": [
        {
          "output_type": "execute_result",
          "data": {
            "text/plain": [
              "array([[31.38265]], dtype=float32)"
            ]
          },
          "metadata": {},
          "execution_count": 17
        }
      ]
    },
    {
      "cell_type": "code",
      "metadata": {
        "colab": {
          "base_uri": "https://localhost:8080/"
        },
        "id": "ylHoTUp7VWpz",
        "outputId": "718e724e-dbc0-4ae2-8828-0d48be90134b"
      },
      "source": [
        "# Let's see if we can make another to improve our model\n",
        "\n",
        "# Set random seed\n",
        "tf.random.set_seed(42)\n",
        "\n",
        "# 1. Create a model (This time with an extra layer with 50 hidden units)\n",
        "model = tf.keras.Sequential([\n",
        "                             tf.keras.layers.Dense(50, activation=None),\n",
        "                             tf.keras.layers.Dense(1)\n",
        "\n",
        "\n",
        "])\n",
        "\n",
        "# 2. Compile the model\n",
        "model.compile(loss=tf.keras.losses.mae, \n",
        "              optimizer=tf.keras.optimizers.SGD(),\n",
        "              metrics=[\"mae\"])\n",
        "\n",
        "# 3. Fit the model\n",
        "model.fit(x, y, epochs=100)"
      ],
      "execution_count": 18,
      "outputs": [
        {
          "output_type": "stream",
          "text": [
            "Epoch 1/100\n",
            "1/1 [==============================] - 0s 370ms/step - loss: 13.1820 - mae: 13.1820\n",
            "Epoch 2/100\n",
            "1/1 [==============================] - 0s 4ms/step - loss: 12.7017 - mae: 12.7017\n",
            "Epoch 3/100\n",
            "1/1 [==============================] - 0s 6ms/step - loss: 12.2185 - mae: 12.2185\n",
            "Epoch 4/100\n",
            "1/1 [==============================] - 0s 4ms/step - loss: 11.7299 - mae: 11.7299\n",
            "Epoch 5/100\n",
            "1/1 [==============================] - 0s 4ms/step - loss: 11.2333 - mae: 11.2333\n",
            "Epoch 6/100\n",
            "1/1 [==============================] - 0s 6ms/step - loss: 10.7262 - mae: 10.7262\n",
            "Epoch 7/100\n",
            "1/1 [==============================] - 0s 4ms/step - loss: 10.2060 - mae: 10.2060\n",
            "Epoch 8/100\n",
            "1/1 [==============================] - 0s 6ms/step - loss: 9.6700 - mae: 9.6700\n",
            "Epoch 9/100\n",
            "1/1 [==============================] - 0s 5ms/step - loss: 9.1155 - mae: 9.1155\n",
            "Epoch 10/100\n",
            "1/1 [==============================] - 0s 4ms/step - loss: 8.5396 - mae: 8.5396\n",
            "Epoch 11/100\n",
            "1/1 [==============================] - 0s 11ms/step - loss: 7.9394 - mae: 7.9394\n",
            "Epoch 12/100\n",
            "1/1 [==============================] - 0s 4ms/step - loss: 7.3119 - mae: 7.3119\n",
            "Epoch 13/100\n",
            "1/1 [==============================] - 0s 5ms/step - loss: 7.1916 - mae: 7.1916\n",
            "Epoch 14/100\n",
            "1/1 [==============================] - 0s 4ms/step - loss: 7.1703 - mae: 7.1703\n",
            "Epoch 15/100\n",
            "1/1 [==============================] - 0s 9ms/step - loss: 7.1489 - mae: 7.1489\n",
            "Epoch 16/100\n",
            "1/1 [==============================] - 0s 5ms/step - loss: 7.1274 - mae: 7.1274\n",
            "Epoch 17/100\n",
            "1/1 [==============================] - 0s 4ms/step - loss: 7.1059 - mae: 7.1059\n",
            "Epoch 18/100\n",
            "1/1 [==============================] - 0s 8ms/step - loss: 7.0843 - mae: 7.0843\n",
            "Epoch 19/100\n",
            "1/1 [==============================] - 0s 4ms/step - loss: 7.0627 - mae: 7.0627\n",
            "Epoch 20/100\n",
            "1/1 [==============================] - 0s 5ms/step - loss: 7.0410 - mae: 7.0410\n",
            "Epoch 21/100\n",
            "1/1 [==============================] - 0s 5ms/step - loss: 7.0201 - mae: 7.0201\n",
            "Epoch 22/100\n",
            "1/1 [==============================] - 0s 7ms/step - loss: 7.0104 - mae: 7.0104\n",
            "Epoch 23/100\n",
            "1/1 [==============================] - 0s 5ms/step - loss: 6.9891 - mae: 6.9891\n",
            "Epoch 24/100\n",
            "1/1 [==============================] - 0s 4ms/step - loss: 6.9677 - mae: 6.9677\n",
            "Epoch 25/100\n",
            "1/1 [==============================] - 0s 5ms/step - loss: 6.9461 - mae: 6.9461\n",
            "Epoch 26/100\n",
            "1/1 [==============================] - 0s 4ms/step - loss: 6.9245 - mae: 6.9245\n",
            "Epoch 27/100\n",
            "1/1 [==============================] - 0s 8ms/step - loss: 6.9029 - mae: 6.9029\n",
            "Epoch 28/100\n",
            "1/1 [==============================] - 0s 5ms/step - loss: 6.8811 - mae: 6.8811\n",
            "Epoch 29/100\n",
            "1/1 [==============================] - 0s 5ms/step - loss: 6.8592 - mae: 6.8592\n",
            "Epoch 30/100\n",
            "1/1 [==============================] - 0s 5ms/step - loss: 6.8372 - mae: 6.8372\n",
            "Epoch 31/100\n",
            "1/1 [==============================] - 0s 8ms/step - loss: 6.8151 - mae: 6.8151\n",
            "Epoch 32/100\n",
            "1/1 [==============================] - 0s 14ms/step - loss: 6.7929 - mae: 6.7929\n",
            "Epoch 33/100\n",
            "1/1 [==============================] - 0s 7ms/step - loss: 6.7706 - mae: 6.7706\n",
            "Epoch 34/100\n",
            "1/1 [==============================] - 0s 9ms/step - loss: 6.7482 - mae: 6.7482\n",
            "Epoch 35/100\n",
            "1/1 [==============================] - 0s 5ms/step - loss: 6.7256 - mae: 6.7256\n",
            "Epoch 36/100\n",
            "1/1 [==============================] - 0s 5ms/step - loss: 6.7029 - mae: 6.7029\n",
            "Epoch 37/100\n",
            "1/1 [==============================] - 0s 6ms/step - loss: 6.6801 - mae: 6.6801\n",
            "Epoch 38/100\n",
            "1/1 [==============================] - 0s 5ms/step - loss: 6.6572 - mae: 6.6572\n",
            "Epoch 39/100\n",
            "1/1 [==============================] - 0s 7ms/step - loss: 6.6341 - mae: 6.6341\n",
            "Epoch 40/100\n",
            "1/1 [==============================] - 0s 7ms/step - loss: 6.6109 - mae: 6.6109\n",
            "Epoch 41/100\n",
            "1/1 [==============================] - 0s 5ms/step - loss: 6.5876 - mae: 6.5876\n",
            "Epoch 42/100\n",
            "1/1 [==============================] - 0s 6ms/step - loss: 6.5641 - mae: 6.5641\n",
            "Epoch 43/100\n",
            "1/1 [==============================] - 0s 8ms/step - loss: 6.5404 - mae: 6.5404\n",
            "Epoch 44/100\n",
            "1/1 [==============================] - 0s 4ms/step - loss: 6.5166 - mae: 6.5166\n",
            "Epoch 45/100\n",
            "1/1 [==============================] - 0s 5ms/step - loss: 6.4926 - mae: 6.4926\n",
            "Epoch 46/100\n",
            "1/1 [==============================] - 0s 5ms/step - loss: 6.4720 - mae: 6.4720\n",
            "Epoch 47/100\n",
            "1/1 [==============================] - 0s 6ms/step - loss: 6.4645 - mae: 6.4645\n",
            "Epoch 48/100\n",
            "1/1 [==============================] - 0s 5ms/step - loss: 6.4406 - mae: 6.4406\n",
            "Epoch 49/100\n",
            "1/1 [==============================] - 0s 4ms/step - loss: 6.4165 - mae: 6.4165\n",
            "Epoch 50/100\n",
            "1/1 [==============================] - 0s 9ms/step - loss: 6.3923 - mae: 6.3923\n",
            "Epoch 51/100\n",
            "1/1 [==============================] - 0s 5ms/step - loss: 6.3679 - mae: 6.3679\n",
            "Epoch 52/100\n",
            "1/1 [==============================] - 0s 4ms/step - loss: 6.3433 - mae: 6.3433\n",
            "Epoch 53/100\n",
            "1/1 [==============================] - 0s 5ms/step - loss: 6.3185 - mae: 6.3185\n",
            "Epoch 54/100\n",
            "1/1 [==============================] - 0s 7ms/step - loss: 6.2935 - mae: 6.2935\n",
            "Epoch 55/100\n",
            "1/1 [==============================] - 0s 5ms/step - loss: 6.2684 - mae: 6.2684\n",
            "Epoch 56/100\n",
            "1/1 [==============================] - 0s 7ms/step - loss: 6.2430 - mae: 6.2430\n",
            "Epoch 57/100\n",
            "1/1 [==============================] - 0s 4ms/step - loss: 6.2174 - mae: 6.2174\n",
            "Epoch 58/100\n",
            "1/1 [==============================] - 0s 9ms/step - loss: 6.1916 - mae: 6.1916\n",
            "Epoch 59/100\n",
            "1/1 [==============================] - 0s 5ms/step - loss: 6.1656 - mae: 6.1656\n",
            "Epoch 60/100\n",
            "1/1 [==============================] - 0s 6ms/step - loss: 6.1394 - mae: 6.1394\n",
            "Epoch 61/100\n",
            "1/1 [==============================] - 0s 5ms/step - loss: 6.1129 - mae: 6.1129\n",
            "Epoch 62/100\n",
            "1/1 [==============================] - 0s 7ms/step - loss: 6.0862 - mae: 6.0862\n",
            "Epoch 63/100\n",
            "1/1 [==============================] - 0s 5ms/step - loss: 6.0593 - mae: 6.0593\n",
            "Epoch 64/100\n",
            "1/1 [==============================] - 0s 5ms/step - loss: 6.0322 - mae: 6.0322\n",
            "Epoch 65/100\n",
            "1/1 [==============================] - 0s 7ms/step - loss: 6.0228 - mae: 6.0228\n",
            "Epoch 66/100\n",
            "1/1 [==============================] - 0s 7ms/step - loss: 6.0028 - mae: 6.0028\n",
            "Epoch 67/100\n",
            "1/1 [==============================] - 0s 5ms/step - loss: 5.9755 - mae: 5.9755\n",
            "Epoch 68/100\n",
            "1/1 [==============================] - 0s 7ms/step - loss: 5.9480 - mae: 5.9480\n",
            "Epoch 69/100\n",
            "1/1 [==============================] - 0s 5ms/step - loss: 5.9202 - mae: 5.9202\n",
            "Epoch 70/100\n",
            "1/1 [==============================] - 0s 6ms/step - loss: 5.8921 - mae: 5.8921\n",
            "Epoch 71/100\n",
            "1/1 [==============================] - 0s 4ms/step - loss: 5.8638 - mae: 5.8638\n",
            "Epoch 72/100\n",
            "1/1 [==============================] - 0s 5ms/step - loss: 5.8352 - mae: 5.8352\n",
            "Epoch 73/100\n",
            "1/1 [==============================] - 0s 5ms/step - loss: 5.8063 - mae: 5.8063\n",
            "Epoch 74/100\n",
            "1/1 [==============================] - 0s 7ms/step - loss: 5.7771 - mae: 5.7771\n",
            "Epoch 75/100\n",
            "1/1 [==============================] - 0s 5ms/step - loss: 5.7477 - mae: 5.7477\n",
            "Epoch 76/100\n",
            "1/1 [==============================] - 0s 6ms/step - loss: 5.7179 - mae: 5.7179\n",
            "Epoch 77/100\n",
            "1/1 [==============================] - 0s 5ms/step - loss: 5.6879 - mae: 5.6879\n",
            "Epoch 78/100\n",
            "1/1 [==============================] - 0s 6ms/step - loss: 5.6575 - mae: 5.6575\n",
            "Epoch 79/100\n",
            "1/1 [==============================] - 0s 5ms/step - loss: 5.6268 - mae: 5.6268\n",
            "Epoch 80/100\n",
            "1/1 [==============================] - 0s 6ms/step - loss: 5.5959 - mae: 5.5959\n",
            "Epoch 81/100\n",
            "1/1 [==============================] - 0s 5ms/step - loss: 5.5926 - mae: 5.5926\n",
            "Epoch 82/100\n",
            "1/1 [==============================] - 0s 7ms/step - loss: 5.5630 - mae: 5.5630\n",
            "Epoch 83/100\n",
            "1/1 [==============================] - 0s 5ms/step - loss: 5.5317 - mae: 5.5317\n",
            "Epoch 84/100\n",
            "1/1 [==============================] - 0s 14ms/step - loss: 5.5000 - mae: 5.5000\n",
            "Epoch 85/100\n",
            "1/1 [==============================] - 0s 5ms/step - loss: 5.4680 - mae: 5.4680\n",
            "Epoch 86/100\n",
            "1/1 [==============================] - 0s 8ms/step - loss: 5.4357 - mae: 5.4357\n",
            "Epoch 87/100\n",
            "1/1 [==============================] - 0s 5ms/step - loss: 5.4030 - mae: 5.4030\n",
            "Epoch 88/100\n",
            "1/1 [==============================] - 0s 6ms/step - loss: 5.3699 - mae: 5.3699\n",
            "Epoch 89/100\n",
            "1/1 [==============================] - 0s 5ms/step - loss: 5.3365 - mae: 5.3365\n",
            "Epoch 90/100\n",
            "1/1 [==============================] - 0s 7ms/step - loss: 5.3027 - mae: 5.3027\n",
            "Epoch 91/100\n",
            "1/1 [==============================] - 0s 5ms/step - loss: 5.2685 - mae: 5.2685\n",
            "Epoch 92/100\n",
            "1/1 [==============================] - 0s 6ms/step - loss: 5.2340 - mae: 5.2340\n",
            "Epoch 93/100\n",
            "1/1 [==============================] - 0s 5ms/step - loss: 5.1990 - mae: 5.1990\n",
            "Epoch 94/100\n",
            "1/1 [==============================] - 0s 7ms/step - loss: 5.1637 - mae: 5.1637\n",
            "Epoch 95/100\n",
            "1/1 [==============================] - 0s 12ms/step - loss: 5.1490 - mae: 5.1490\n",
            "Epoch 96/100\n",
            "1/1 [==============================] - 0s 11ms/step - loss: 5.1790 - mae: 5.1790\n",
            "Epoch 97/100\n",
            "1/1 [==============================] - 0s 5ms/step - loss: 5.2567 - mae: 5.2567\n",
            "Epoch 98/100\n",
            "1/1 [==============================] - 0s 5ms/step - loss: 5.0494 - mae: 5.0494\n",
            "Epoch 99/100\n",
            "1/1 [==============================] - 0s 8ms/step - loss: 5.0125 - mae: 5.0125\n",
            "Epoch 100/100\n",
            "1/1 [==============================] - 0s 4ms/step - loss: 4.9753 - mae: 4.9753\n"
          ],
          "name": "stdout"
        },
        {
          "output_type": "execute_result",
          "data": {
            "text/plain": [
              "<keras.callbacks.History at 0x7f0ca9607110>"
            ]
          },
          "metadata": {},
          "execution_count": 18
        }
      ]
    },
    {
      "cell_type": "code",
      "metadata": {
        "colab": {
          "base_uri": "https://localhost:8080/"
        },
        "id": "EHSSMXPQXvQE",
        "outputId": "30804d44-b188-4ce1-e179-368ea4e91b00"
      },
      "source": [
        "model.predict([17.0])\n",
        "\n",
        "# Its better"
      ],
      "execution_count": 19,
      "outputs": [
        {
          "output_type": "execute_result",
          "data": {
            "text/plain": [
              "array([[29.787045]], dtype=float32)"
            ]
          },
          "metadata": {},
          "execution_count": 19
        }
      ]
    },
    {
      "cell_type": "code",
      "metadata": {
        "colab": {
          "base_uri": "https://localhost:8080/"
        },
        "id": "8gxVwnFxX1im",
        "outputId": "1142d5a5-c285-43b1-f2c9-4a39988a1b2a"
      },
      "source": [
        "# Let's see if we can make another to improve our model\n",
        "\n",
        "# Set random seed\n",
        "tf.random.set_seed(42)\n",
        "\n",
        "# 1. Create a model (This time with an extra layer with 50 hidden units)\n",
        "model = tf.keras.Sequential([\n",
        "                             tf.keras.layers.Dense(50, activation=None),\n",
        "                             tf.keras.layers.Dense(1)\n",
        "\n",
        "\n",
        "])\n",
        "\n",
        "# 2. Compile the model\n",
        "model.compile(loss=tf.keras.losses.mae, \n",
        "              optimizer=tf.keras.optimizers.Adam(),\n",
        "              metrics=[\"mae\"])\n",
        "\n",
        "# 3. Fit the model\n",
        "model.fit(x, y, epochs=100)"
      ],
      "execution_count": 20,
      "outputs": [
        {
          "output_type": "stream",
          "text": [
            "Epoch 1/100\n",
            "1/1 [==============================] - 0s 403ms/step - loss: 13.1820 - mae: 13.1820\n",
            "Epoch 2/100\n",
            "1/1 [==============================] - 0s 5ms/step - loss: 13.1147 - mae: 13.1147\n",
            "Epoch 3/100\n",
            "1/1 [==============================] - 0s 5ms/step - loss: 13.0473 - mae: 13.0473\n",
            "Epoch 4/100\n",
            "1/1 [==============================] - 0s 6ms/step - loss: 12.9799 - mae: 12.9799\n",
            "Epoch 5/100\n",
            "1/1 [==============================] - 0s 6ms/step - loss: 12.9125 - mae: 12.9125\n",
            "Epoch 6/100\n",
            "1/1 [==============================] - 0s 6ms/step - loss: 12.8450 - mae: 12.8450\n",
            "Epoch 7/100\n",
            "1/1 [==============================] - 0s 6ms/step - loss: 12.7774 - mae: 12.7774\n",
            "Epoch 8/100\n",
            "1/1 [==============================] - 0s 6ms/step - loss: 12.7098 - mae: 12.7098\n",
            "Epoch 9/100\n",
            "1/1 [==============================] - 0s 8ms/step - loss: 12.6422 - mae: 12.6422\n",
            "Epoch 10/100\n",
            "1/1 [==============================] - 0s 3ms/step - loss: 12.5745 - mae: 12.5745\n",
            "Epoch 11/100\n",
            "1/1 [==============================] - 0s 5ms/step - loss: 12.5067 - mae: 12.5067\n",
            "Epoch 12/100\n",
            "1/1 [==============================] - 0s 6ms/step - loss: 12.4388 - mae: 12.4388\n",
            "Epoch 13/100\n",
            "1/1 [==============================] - 0s 5ms/step - loss: 12.3709 - mae: 12.3709\n",
            "Epoch 14/100\n",
            "1/1 [==============================] - 0s 9ms/step - loss: 12.3028 - mae: 12.3028\n",
            "Epoch 15/100\n",
            "1/1 [==============================] - 0s 5ms/step - loss: 12.2347 - mae: 12.2347\n",
            "Epoch 16/100\n",
            "1/1 [==============================] - 0s 5ms/step - loss: 12.1665 - mae: 12.1665\n",
            "Epoch 17/100\n",
            "1/1 [==============================] - 0s 10ms/step - loss: 12.0982 - mae: 12.0982\n",
            "Epoch 18/100\n",
            "1/1 [==============================] - 0s 5ms/step - loss: 12.0298 - mae: 12.0298\n",
            "Epoch 19/100\n",
            "1/1 [==============================] - 0s 7ms/step - loss: 11.9613 - mae: 11.9613\n",
            "Epoch 20/100\n",
            "1/1 [==============================] - 0s 7ms/step - loss: 11.8926 - mae: 11.8926\n",
            "Epoch 21/100\n",
            "1/1 [==============================] - 0s 5ms/step - loss: 11.8238 - mae: 11.8238\n",
            "Epoch 22/100\n",
            "1/1 [==============================] - 0s 5ms/step - loss: 11.7549 - mae: 11.7549\n",
            "Epoch 23/100\n",
            "1/1 [==============================] - 0s 5ms/step - loss: 11.6858 - mae: 11.6858\n",
            "Epoch 24/100\n",
            "1/1 [==============================] - 0s 5ms/step - loss: 11.6166 - mae: 11.6166\n",
            "Epoch 25/100\n",
            "1/1 [==============================] - 0s 5ms/step - loss: 11.5472 - mae: 11.5472\n",
            "Epoch 26/100\n",
            "1/1 [==============================] - 0s 5ms/step - loss: 11.4776 - mae: 11.4776\n",
            "Epoch 27/100\n",
            "1/1 [==============================] - 0s 5ms/step - loss: 11.4079 - mae: 11.4079\n",
            "Epoch 28/100\n",
            "1/1 [==============================] - 0s 4ms/step - loss: 11.3380 - mae: 11.3380\n",
            "Epoch 29/100\n",
            "1/1 [==============================] - 0s 6ms/step - loss: 11.2678 - mae: 11.2678\n",
            "Epoch 30/100\n",
            "1/1 [==============================] - 0s 5ms/step - loss: 11.1975 - mae: 11.1975\n",
            "Epoch 31/100\n",
            "1/1 [==============================] - 0s 5ms/step - loss: 11.1270 - mae: 11.1270\n",
            "Epoch 32/100\n",
            "1/1 [==============================] - 0s 7ms/step - loss: 11.0562 - mae: 11.0562\n",
            "Epoch 33/100\n",
            "1/1 [==============================] - 0s 5ms/step - loss: 10.9852 - mae: 10.9852\n",
            "Epoch 34/100\n",
            "1/1 [==============================] - 0s 5ms/step - loss: 10.9140 - mae: 10.9140\n",
            "Epoch 35/100\n",
            "1/1 [==============================] - 0s 5ms/step - loss: 10.8425 - mae: 10.8425\n",
            "Epoch 36/100\n",
            "1/1 [==============================] - 0s 7ms/step - loss: 10.7708 - mae: 10.7708\n",
            "Epoch 37/100\n",
            "1/1 [==============================] - 0s 5ms/step - loss: 10.6988 - mae: 10.6988\n",
            "Epoch 38/100\n",
            "1/1 [==============================] - 0s 7ms/step - loss: 10.6265 - mae: 10.6265\n",
            "Epoch 39/100\n",
            "1/1 [==============================] - 0s 5ms/step - loss: 10.5539 - mae: 10.5539\n",
            "Epoch 40/100\n",
            "1/1 [==============================] - 0s 5ms/step - loss: 10.4810 - mae: 10.4810\n",
            "Epoch 41/100\n",
            "1/1 [==============================] - 0s 12ms/step - loss: 10.4079 - mae: 10.4079\n",
            "Epoch 42/100\n",
            "1/1 [==============================] - 0s 5ms/step - loss: 10.3344 - mae: 10.3344\n",
            "Epoch 43/100\n",
            "1/1 [==============================] - 0s 5ms/step - loss: 10.2606 - mae: 10.2606\n",
            "Epoch 44/100\n",
            "1/1 [==============================] - 0s 5ms/step - loss: 10.1865 - mae: 10.1865\n",
            "Epoch 45/100\n",
            "1/1 [==============================] - 0s 6ms/step - loss: 10.1120 - mae: 10.1120\n",
            "Epoch 46/100\n",
            "1/1 [==============================] - 0s 4ms/step - loss: 10.0372 - mae: 10.0372\n",
            "Epoch 47/100\n",
            "1/1 [==============================] - 0s 5ms/step - loss: 9.9620 - mae: 9.9620\n",
            "Epoch 48/100\n",
            "1/1 [==============================] - 0s 12ms/step - loss: 9.8865 - mae: 9.8865\n",
            "Epoch 49/100\n",
            "1/1 [==============================] - 0s 5ms/step - loss: 9.8105 - mae: 9.8105\n",
            "Epoch 50/100\n",
            "1/1 [==============================] - 0s 5ms/step - loss: 9.7343 - mae: 9.7343\n",
            "Epoch 51/100\n",
            "1/1 [==============================] - 0s 8ms/step - loss: 9.6576 - mae: 9.6576\n",
            "Epoch 52/100\n",
            "1/1 [==============================] - 0s 4ms/step - loss: 9.5805 - mae: 9.5805\n",
            "Epoch 53/100\n",
            "1/1 [==============================] - 0s 4ms/step - loss: 9.5030 - mae: 9.5030\n",
            "Epoch 54/100\n",
            "1/1 [==============================] - 0s 5ms/step - loss: 9.4251 - mae: 9.4251\n",
            "Epoch 55/100\n",
            "1/1 [==============================] - 0s 5ms/step - loss: 9.3468 - mae: 9.3468\n",
            "Epoch 56/100\n",
            "1/1 [==============================] - 0s 7ms/step - loss: 9.2680 - mae: 9.2680\n",
            "Epoch 57/100\n",
            "1/1 [==============================] - 0s 6ms/step - loss: 9.1889 - mae: 9.1889\n",
            "Epoch 58/100\n",
            "1/1 [==============================] - 0s 5ms/step - loss: 9.1092 - mae: 9.1092\n",
            "Epoch 59/100\n",
            "1/1 [==============================] - 0s 7ms/step - loss: 9.0292 - mae: 9.0292\n",
            "Epoch 60/100\n",
            "1/1 [==============================] - 0s 5ms/step - loss: 8.9486 - mae: 8.9486\n",
            "Epoch 61/100\n",
            "1/1 [==============================] - 0s 7ms/step - loss: 8.8676 - mae: 8.8676\n",
            "Epoch 62/100\n",
            "1/1 [==============================] - 0s 5ms/step - loss: 8.7861 - mae: 8.7861\n",
            "Epoch 63/100\n",
            "1/1 [==============================] - 0s 7ms/step - loss: 8.7042 - mae: 8.7042\n",
            "Epoch 64/100\n",
            "1/1 [==============================] - 0s 5ms/step - loss: 8.6218 - mae: 8.6218\n",
            "Epoch 65/100\n",
            "1/1 [==============================] - 0s 7ms/step - loss: 8.5388 - mae: 8.5388\n",
            "Epoch 66/100\n",
            "1/1 [==============================] - 0s 5ms/step - loss: 8.4554 - mae: 8.4554\n",
            "Epoch 67/100\n",
            "1/1 [==============================] - 0s 6ms/step - loss: 8.3715 - mae: 8.3715\n",
            "Epoch 68/100\n",
            "1/1 [==============================] - 0s 6ms/step - loss: 8.2870 - mae: 8.2870\n",
            "Epoch 69/100\n",
            "1/1 [==============================] - 0s 11ms/step - loss: 8.2021 - mae: 8.2021\n",
            "Epoch 70/100\n",
            "1/1 [==============================] - 0s 8ms/step - loss: 8.1166 - mae: 8.1166\n",
            "Epoch 71/100\n",
            "1/1 [==============================] - 0s 6ms/step - loss: 8.0306 - mae: 8.0306\n",
            "Epoch 72/100\n",
            "1/1 [==============================] - 0s 5ms/step - loss: 7.9441 - mae: 7.9441\n",
            "Epoch 73/100\n",
            "1/1 [==============================] - 0s 7ms/step - loss: 7.8570 - mae: 7.8570\n",
            "Epoch 74/100\n",
            "1/1 [==============================] - 0s 7ms/step - loss: 7.7693 - mae: 7.7693\n",
            "Epoch 75/100\n",
            "1/1 [==============================] - 0s 6ms/step - loss: 7.6811 - mae: 7.6811\n",
            "Epoch 76/100\n",
            "1/1 [==============================] - 0s 5ms/step - loss: 7.5924 - mae: 7.5924\n",
            "Epoch 77/100\n",
            "1/1 [==============================] - 0s 7ms/step - loss: 7.5031 - mae: 7.5031\n",
            "Epoch 78/100\n",
            "1/1 [==============================] - 0s 5ms/step - loss: 7.4132 - mae: 7.4132\n",
            "Epoch 79/100\n",
            "1/1 [==============================] - 0s 5ms/step - loss: 7.3227 - mae: 7.3227\n",
            "Epoch 80/100\n",
            "1/1 [==============================] - 0s 7ms/step - loss: 7.2317 - mae: 7.2317\n",
            "Epoch 81/100\n",
            "1/1 [==============================] - 0s 5ms/step - loss: 7.1400 - mae: 7.1400\n",
            "Epoch 82/100\n",
            "1/1 [==============================] - 0s 5ms/step - loss: 7.0478 - mae: 7.0478\n",
            "Epoch 83/100\n",
            "1/1 [==============================] - 0s 7ms/step - loss: 6.9549 - mae: 6.9549\n",
            "Epoch 84/100\n",
            "1/1 [==============================] - 0s 5ms/step - loss: 6.8615 - mae: 6.8615\n",
            "Epoch 85/100\n",
            "1/1 [==============================] - 0s 6ms/step - loss: 6.7674 - mae: 6.7674\n",
            "Epoch 86/100\n",
            "1/1 [==============================] - 0s 5ms/step - loss: 6.7554 - mae: 6.7554\n",
            "Epoch 87/100\n",
            "1/1 [==============================] - 0s 14ms/step - loss: 6.7439 - mae: 6.7439\n",
            "Epoch 88/100\n",
            "1/1 [==============================] - 0s 71ms/step - loss: 6.7326 - mae: 6.7326\n",
            "Epoch 89/100\n",
            "1/1 [==============================] - 0s 6ms/step - loss: 6.7217 - mae: 6.7217\n",
            "Epoch 90/100\n",
            "1/1 [==============================] - 0s 5ms/step - loss: 6.7109 - mae: 6.7109\n",
            "Epoch 91/100\n",
            "1/1 [==============================] - 0s 5ms/step - loss: 6.7003 - mae: 6.7003\n",
            "Epoch 92/100\n",
            "1/1 [==============================] - 0s 5ms/step - loss: 6.6900 - mae: 6.6900\n",
            "Epoch 93/100\n",
            "1/1 [==============================] - 0s 5ms/step - loss: 6.6797 - mae: 6.6797\n",
            "Epoch 94/100\n",
            "1/1 [==============================] - 0s 5ms/step - loss: 6.6696 - mae: 6.6696\n",
            "Epoch 95/100\n",
            "1/1 [==============================] - 0s 5ms/step - loss: 6.6597 - mae: 6.6597\n",
            "Epoch 96/100\n",
            "1/1 [==============================] - 0s 7ms/step - loss: 6.6550 - mae: 6.6550\n",
            "Epoch 97/100\n",
            "1/1 [==============================] - 0s 7ms/step - loss: 6.6658 - mae: 6.6658\n",
            "Epoch 98/100\n",
            "1/1 [==============================] - 0s 5ms/step - loss: 6.6699 - mae: 6.6699\n",
            "Epoch 99/100\n",
            "1/1 [==============================] - 0s 5ms/step - loss: 6.6679 - mae: 6.6679\n",
            "Epoch 100/100\n",
            "1/1 [==============================] - 0s 5ms/step - loss: 6.6604 - mae: 6.6604\n"
          ],
          "name": "stdout"
        },
        {
          "output_type": "execute_result",
          "data": {
            "text/plain": [
              "<keras.callbacks.History at 0x7f0caadc2390>"
            ]
          },
          "metadata": {},
          "execution_count": 20
        }
      ]
    },
    {
      "cell_type": "code",
      "metadata": {
        "colab": {
          "base_uri": "https://localhost:8080/"
        },
        "id": "ILLrAOLcYLWk",
        "outputId": "36788bc6-b7ce-402f-f1de-e9d66b0d1fd9"
      },
      "source": [
        "model.predict([17.0])"
      ],
      "execution_count": 21,
      "outputs": [
        {
          "output_type": "stream",
          "text": [
            "WARNING:tensorflow:5 out of the last 5 calls to <function Model.make_predict_function.<locals>.predict_function at 0x7f0caac59c20> triggered tf.function retracing. Tracing is expensive and the excessive number of tracings could be due to (1) creating @tf.function repeatedly in a loop, (2) passing tensors with different shapes, (3) passing Python objects instead of tensors. For (1), please define your @tf.function outside of the loop. For (2), @tf.function has experimental_relax_shapes=True option that relaxes argument shapes that can avoid unnecessary retracing. For (3), please refer to https://www.tensorflow.org/guide/function#controlling_retracing and https://www.tensorflow.org/api_docs/python/tf/function for  more details.\n"
          ],
          "name": "stdout"
        },
        {
          "output_type": "execute_result",
          "data": {
            "text/plain": [
              "array([[32.05097]], dtype=float32)"
            ]
          },
          "metadata": {},
          "execution_count": 21
        }
      ]
    },
    {
      "cell_type": "code",
      "metadata": {
        "colab": {
          "base_uri": "https://localhost:8080/"
        },
        "id": "PawNPSjbYTVW",
        "outputId": "ce2551be-e000-464a-f9bd-e2047580b578"
      },
      "source": [
        "# Let's see if we can make another to improve our model\n",
        "\n",
        "# Set random seed\n",
        "tf.random.set_seed(42)\n",
        "\n",
        "# 1. Create a model (This time with an extra layer with 50 hidden units)\n",
        "model = tf.keras.Sequential([\n",
        "                             tf.keras.layers.Dense(50, activation=None),\n",
        "                             tf.keras.layers.Dense(1)\n",
        "\n",
        "\n",
        "])\n",
        "\n",
        "# 2. Compile the model\n",
        "model.compile(loss=tf.keras.losses.mae, \n",
        "              optimizer=tf.keras.optimizers.Adam(learning_rate=0.01),\n",
        "              metrics=[\"mae\"])\n",
        "\n",
        "# 3. Fit the model\n",
        "model.fit(x, y, epochs=100)"
      ],
      "execution_count": 22,
      "outputs": [
        {
          "output_type": "stream",
          "text": [
            "Epoch 1/100\n",
            "1/1 [==============================] - 0s 370ms/step - loss: 13.1820 - mae: 13.1820\n",
            "Epoch 2/100\n",
            "1/1 [==============================] - 0s 4ms/step - loss: 12.5071 - mae: 12.5071\n",
            "Epoch 3/100\n",
            "1/1 [==============================] - 0s 7ms/step - loss: 11.8279 - mae: 11.8279\n",
            "Epoch 4/100\n",
            "1/1 [==============================] - 0s 4ms/step - loss: 11.1425 - mae: 11.1425\n",
            "Epoch 5/100\n",
            "1/1 [==============================] - 0s 5ms/step - loss: 10.4485 - mae: 10.4485\n",
            "Epoch 6/100\n",
            "1/1 [==============================] - 0s 5ms/step - loss: 9.7427 - mae: 9.7427\n",
            "Epoch 7/100\n",
            "1/1 [==============================] - 0s 5ms/step - loss: 9.0218 - mae: 9.0218\n",
            "Epoch 8/100\n",
            "1/1 [==============================] - 0s 14ms/step - loss: 8.2826 - mae: 8.2826\n",
            "Epoch 9/100\n",
            "1/1 [==============================] - 0s 6ms/step - loss: 7.5221 - mae: 7.5221\n",
            "Epoch 10/100\n",
            "1/1 [==============================] - 0s 8ms/step - loss: 6.7841 - mae: 6.7841\n",
            "Epoch 11/100\n",
            "1/1 [==============================] - 0s 6ms/step - loss: 6.7505 - mae: 6.7505\n",
            "Epoch 12/100\n",
            "1/1 [==============================] - 0s 9ms/step - loss: 7.0302 - mae: 7.0302\n",
            "Epoch 13/100\n",
            "1/1 [==============================] - 0s 10ms/step - loss: 7.1931 - mae: 7.1931\n",
            "Epoch 14/100\n",
            "1/1 [==============================] - 0s 5ms/step - loss: 7.2735 - mae: 7.2735\n",
            "Epoch 15/100\n",
            "1/1 [==============================] - 0s 6ms/step - loss: 7.2165 - mae: 7.2165\n",
            "Epoch 16/100\n",
            "1/1 [==============================] - 0s 16ms/step - loss: 7.0282 - mae: 7.0282\n",
            "Epoch 17/100\n",
            "1/1 [==============================] - 0s 6ms/step - loss: 6.8275 - mae: 6.8275\n",
            "Epoch 18/100\n",
            "1/1 [==============================] - 0s 9ms/step - loss: 6.5956 - mae: 6.5956\n",
            "Epoch 19/100\n",
            "1/1 [==============================] - 0s 7ms/step - loss: 6.3389 - mae: 6.3389\n",
            "Epoch 20/100\n",
            "1/1 [==============================] - 0s 3ms/step - loss: 6.0742 - mae: 6.0742\n",
            "Epoch 21/100\n",
            "1/1 [==============================] - 0s 5ms/step - loss: 6.0195 - mae: 6.0195\n",
            "Epoch 22/100\n",
            "1/1 [==============================] - 0s 6ms/step - loss: 5.9610 - mae: 5.9610\n",
            "Epoch 23/100\n",
            "1/1 [==============================] - 0s 5ms/step - loss: 6.0150 - mae: 6.0150\n",
            "Epoch 24/100\n",
            "1/1 [==============================] - 0s 5ms/step - loss: 6.0147 - mae: 6.0147\n",
            "Epoch 25/100\n",
            "1/1 [==============================] - 0s 5ms/step - loss: 5.9085 - mae: 5.9085\n",
            "Epoch 26/100\n",
            "1/1 [==============================] - 0s 5ms/step - loss: 5.7090 - mae: 5.7090\n",
            "Epoch 27/100\n",
            "1/1 [==============================] - 0s 6ms/step - loss: 5.5382 - mae: 5.5382\n",
            "Epoch 28/100\n",
            "1/1 [==============================] - 0s 5ms/step - loss: 5.4295 - mae: 5.4295\n",
            "Epoch 29/100\n",
            "1/1 [==============================] - 0s 5ms/step - loss: 5.3177 - mae: 5.3177\n",
            "Epoch 30/100\n",
            "1/1 [==============================] - 0s 5ms/step - loss: 5.3173 - mae: 5.3173\n",
            "Epoch 31/100\n",
            "1/1 [==============================] - 0s 7ms/step - loss: 5.2878 - mae: 5.2878\n",
            "Epoch 32/100\n",
            "1/1 [==============================] - 0s 5ms/step - loss: 5.2103 - mae: 5.2103\n",
            "Epoch 33/100\n",
            "1/1 [==============================] - 0s 4ms/step - loss: 5.0890 - mae: 5.0890\n",
            "Epoch 34/100\n",
            "1/1 [==============================] - 0s 6ms/step - loss: 4.9280 - mae: 4.9280\n",
            "Epoch 35/100\n",
            "1/1 [==============================] - 0s 4ms/step - loss: 4.7312 - mae: 4.7312\n",
            "Epoch 36/100\n",
            "1/1 [==============================] - 0s 5ms/step - loss: 4.6041 - mae: 4.6041\n",
            "Epoch 37/100\n",
            "1/1 [==============================] - 0s 4ms/step - loss: 4.5056 - mae: 4.5056\n",
            "Epoch 38/100\n",
            "1/1 [==============================] - 0s 4ms/step - loss: 4.4017 - mae: 4.4017\n",
            "Epoch 39/100\n",
            "1/1 [==============================] - 0s 9ms/step - loss: 4.2958 - mae: 4.2958\n",
            "Epoch 40/100\n",
            "1/1 [==============================] - 0s 5ms/step - loss: 4.1313 - mae: 4.1313\n",
            "Epoch 41/100\n",
            "1/1 [==============================] - 0s 9ms/step - loss: 3.9818 - mae: 3.9818\n",
            "Epoch 42/100\n",
            "1/1 [==============================] - 0s 5ms/step - loss: 3.8253 - mae: 3.8253\n",
            "Epoch 43/100\n",
            "1/1 [==============================] - 0s 8ms/step - loss: 3.6671 - mae: 3.6671\n",
            "Epoch 44/100\n",
            "1/1 [==============================] - 0s 10ms/step - loss: 3.5365 - mae: 3.5365\n",
            "Epoch 45/100\n",
            "1/1 [==============================] - 0s 8ms/step - loss: 3.3534 - mae: 3.3534\n",
            "Epoch 46/100\n",
            "1/1 [==============================] - 0s 7ms/step - loss: 3.1903 - mae: 3.1903\n",
            "Epoch 47/100\n",
            "1/1 [==============================] - 0s 7ms/step - loss: 3.0254 - mae: 3.0254\n",
            "Epoch 48/100\n",
            "1/1 [==============================] - 0s 11ms/step - loss: 2.8499 - mae: 2.8499\n",
            "Epoch 49/100\n",
            "1/1 [==============================] - 0s 8ms/step - loss: 2.6844 - mae: 2.6844\n",
            "Epoch 50/100\n",
            "1/1 [==============================] - 0s 6ms/step - loss: 2.4541 - mae: 2.4541\n",
            "Epoch 51/100\n",
            "1/1 [==============================] - 0s 7ms/step - loss: 2.2346 - mae: 2.2346\n",
            "Epoch 52/100\n",
            "1/1 [==============================] - 0s 6ms/step - loss: 2.0468 - mae: 2.0468\n",
            "Epoch 53/100\n",
            "1/1 [==============================] - 0s 7ms/step - loss: 1.8348 - mae: 1.8348\n",
            "Epoch 54/100\n",
            "1/1 [==============================] - 0s 4ms/step - loss: 1.5549 - mae: 1.5549\n",
            "Epoch 55/100\n",
            "1/1 [==============================] - 0s 4ms/step - loss: 1.3570 - mae: 1.3570\n",
            "Epoch 56/100\n",
            "1/1 [==============================] - 0s 7ms/step - loss: 1.1130 - mae: 1.1130\n",
            "Epoch 57/100\n",
            "1/1 [==============================] - 0s 4ms/step - loss: 0.8263 - mae: 0.8263\n",
            "Epoch 58/100\n",
            "1/1 [==============================] - 0s 6ms/step - loss: 0.6080 - mae: 0.6080\n",
            "Epoch 59/100\n",
            "1/1 [==============================] - 0s 7ms/step - loss: 0.2654 - mae: 0.2654\n",
            "Epoch 60/100\n",
            "1/1 [==============================] - 0s 8ms/step - loss: 0.1994 - mae: 0.1994\n",
            "Epoch 61/100\n",
            "1/1 [==============================] - 0s 7ms/step - loss: 0.3319 - mae: 0.3319\n",
            "Epoch 62/100\n",
            "1/1 [==============================] - 0s 6ms/step - loss: 0.5022 - mae: 0.5022\n",
            "Epoch 63/100\n",
            "1/1 [==============================] - 0s 9ms/step - loss: 0.6316 - mae: 0.6316\n",
            "Epoch 64/100\n",
            "1/1 [==============================] - 0s 9ms/step - loss: 0.7575 - mae: 0.7575\n",
            "Epoch 65/100\n",
            "1/1 [==============================] - 0s 20ms/step - loss: 0.6993 - mae: 0.6993\n",
            "Epoch 66/100\n",
            "1/1 [==============================] - 0s 8ms/step - loss: 0.8384 - mae: 0.8384\n",
            "Epoch 67/100\n",
            "1/1 [==============================] - 0s 6ms/step - loss: 0.8231 - mae: 0.8231\n",
            "Epoch 68/100\n",
            "1/1 [==============================] - 0s 8ms/step - loss: 0.6088 - mae: 0.6088\n",
            "Epoch 69/100\n",
            "1/1 [==============================] - 0s 8ms/step - loss: 0.6624 - mae: 0.6624\n",
            "Epoch 70/100\n",
            "1/1 [==============================] - 0s 8ms/step - loss: 0.6882 - mae: 0.6882\n",
            "Epoch 71/100\n",
            "1/1 [==============================] - 0s 4ms/step - loss: 0.4096 - mae: 0.4096\n",
            "Epoch 72/100\n",
            "1/1 [==============================] - 0s 11ms/step - loss: 0.2376 - mae: 0.2376\n",
            "Epoch 73/100\n",
            "1/1 [==============================] - 0s 7ms/step - loss: 0.4573 - mae: 0.4573\n",
            "Epoch 74/100\n",
            "1/1 [==============================] - 0s 7ms/step - loss: 0.3699 - mae: 0.3699\n",
            "Epoch 75/100\n",
            "1/1 [==============================] - 0s 6ms/step - loss: 0.3439 - mae: 0.3439\n",
            "Epoch 76/100\n",
            "1/1 [==============================] - 0s 7ms/step - loss: 0.5023 - mae: 0.5023\n",
            "Epoch 77/100\n",
            "1/1 [==============================] - 0s 5ms/step - loss: 0.4859 - mae: 0.4859\n",
            "Epoch 78/100\n",
            "1/1 [==============================] - 0s 7ms/step - loss: 0.3219 - mae: 0.3219\n",
            "Epoch 79/100\n",
            "1/1 [==============================] - 0s 5ms/step - loss: 0.3975 - mae: 0.3975\n",
            "Epoch 80/100\n",
            "1/1 [==============================] - 0s 6ms/step - loss: 0.3645 - mae: 0.3645\n",
            "Epoch 81/100\n",
            "1/1 [==============================] - 0s 6ms/step - loss: 0.1428 - mae: 0.1428\n",
            "Epoch 82/100\n",
            "1/1 [==============================] - 0s 7ms/step - loss: 0.0749 - mae: 0.0749\n",
            "Epoch 83/100\n",
            "1/1 [==============================] - 0s 6ms/step - loss: 0.1437 - mae: 0.1437\n",
            "Epoch 84/100\n",
            "1/1 [==============================] - 0s 7ms/step - loss: 0.1804 - mae: 0.1804\n",
            "Epoch 85/100\n",
            "1/1 [==============================] - 0s 8ms/step - loss: 0.3013 - mae: 0.3013\n",
            "Epoch 86/100\n",
            "1/1 [==============================] - 0s 6ms/step - loss: 0.2711 - mae: 0.2711\n",
            "Epoch 87/100\n",
            "1/1 [==============================] - 0s 19ms/step - loss: 0.2547 - mae: 0.2547\n",
            "Epoch 88/100\n",
            "1/1 [==============================] - 0s 6ms/step - loss: 0.2350 - mae: 0.2350\n",
            "Epoch 89/100\n",
            "1/1 [==============================] - 0s 12ms/step - loss: 0.0871 - mae: 0.0871\n",
            "Epoch 90/100\n",
            "1/1 [==============================] - 0s 5ms/step - loss: 0.0687 - mae: 0.0687\n",
            "Epoch 91/100\n",
            "1/1 [==============================] - 0s 4ms/step - loss: 0.2191 - mae: 0.2191\n",
            "Epoch 92/100\n",
            "1/1 [==============================] - 0s 8ms/step - loss: 0.2195 - mae: 0.2195\n",
            "Epoch 93/100\n",
            "1/1 [==============================] - 0s 4ms/step - loss: 0.2530 - mae: 0.2530\n",
            "Epoch 94/100\n",
            "1/1 [==============================] - 0s 5ms/step - loss: 0.2993 - mae: 0.2993\n",
            "Epoch 95/100\n",
            "1/1 [==============================] - 0s 5ms/step - loss: 0.1965 - mae: 0.1965\n",
            "Epoch 96/100\n",
            "1/1 [==============================] - 0s 5ms/step - loss: 0.2204 - mae: 0.2204\n",
            "Epoch 97/100\n",
            "1/1 [==============================] - 0s 4ms/step - loss: 0.1981 - mae: 0.1981\n",
            "Epoch 98/100\n",
            "1/1 [==============================] - 0s 5ms/step - loss: 0.1086 - mae: 0.1086\n",
            "Epoch 99/100\n",
            "1/1 [==============================] - 0s 4ms/step - loss: 0.1370 - mae: 0.1370\n",
            "Epoch 100/100\n",
            "1/1 [==============================] - 0s 5ms/step - loss: 0.1814 - mae: 0.1814\n"
          ],
          "name": "stdout"
        },
        {
          "output_type": "execute_result",
          "data": {
            "text/plain": [
              "<keras.callbacks.History at 0x7f0caab3f8d0>"
            ]
          },
          "metadata": {},
          "execution_count": 22
        }
      ]
    },
    {
      "cell_type": "code",
      "metadata": {
        "colab": {
          "base_uri": "https://localhost:8080/"
        },
        "id": "JN-2KPe1Y0d2",
        "outputId": "50ef835b-65ec-4ae4-cede-90fe62bdee12"
      },
      "source": [
        "model.predict([17.0])\n",
        "\n",
        "# our best model"
      ],
      "execution_count": 23,
      "outputs": [
        {
          "output_type": "stream",
          "text": [
            "WARNING:tensorflow:6 out of the last 6 calls to <function Model.make_predict_function.<locals>.predict_function at 0x7f0caab5cef0> triggered tf.function retracing. Tracing is expensive and the excessive number of tracings could be due to (1) creating @tf.function repeatedly in a loop, (2) passing tensors with different shapes, (3) passing Python objects instead of tensors. For (1), please define your @tf.function outside of the loop. For (2), @tf.function has experimental_relax_shapes=True option that relaxes argument shapes that can avoid unnecessary retracing. For (3), please refer to https://www.tensorflow.org/guide/function#controlling_retracing and https://www.tensorflow.org/api_docs/python/tf/function for  more details.\n"
          ],
          "name": "stdout"
        },
        {
          "output_type": "execute_result",
          "data": {
            "text/plain": [
              "array([[27.216782]], dtype=float32)"
            ]
          },
          "metadata": {},
          "execution_count": 23
        }
      ]
    },
    {
      "cell_type": "markdown",
      "metadata": {
        "id": "p1Rk_kuJ2FJ1"
      },
      "source": [
        "## Evaluating a model\n",
        "\n",
        "In practice, a typical workflow you'll go through when building neural networks is:\n",
        "\n",
        "```\n",
        "Build a model -> fit it -> evaluate it -> tweek a model -> fit it -> evaluate it-> tweek a model -> fit it -> evaluate it...\n",
        "```"
      ]
    },
    {
      "cell_type": "markdown",
      "metadata": {
        "id": "AFuyMaCv4Asx"
      },
      "source": [
        "When it comes to evaluation... there are 3 words you should memorize:\n",
        "> \"Visualize, Visualize, Visualize\"\n",
        "\n",
        "It's a good idea to visualize:\n",
        "* The data - what data are we working with? what does it look like?\n",
        "* The model itself- what does our model look like?\n",
        "* The training of a model - how does a model perform while it learns?\n",
        "* The predictions of the model - how do the predictions of a model line up against the ground truth (the original labels)?"
      ]
    },
    {
      "cell_type": "code",
      "metadata": {
        "id": "Cvg8RxvXY5FL",
        "colab": {
          "base_uri": "https://localhost:8080/"
        },
        "outputId": "b5493940-9cac-4040-a745-2a90197c29ff"
      },
      "source": [
        "# Make a bigger dataset\n",
        "\n",
        "x = tf.range(-100, 100, 4)\n",
        "x"
      ],
      "execution_count": 24,
      "outputs": [
        {
          "output_type": "execute_result",
          "data": {
            "text/plain": [
              "<tf.Tensor: shape=(50,), dtype=int32, numpy=\n",
              "array([-100,  -96,  -92,  -88,  -84,  -80,  -76,  -72,  -68,  -64,  -60,\n",
              "        -56,  -52,  -48,  -44,  -40,  -36,  -32,  -28,  -24,  -20,  -16,\n",
              "        -12,   -8,   -4,    0,    4,    8,   12,   16,   20,   24,   28,\n",
              "         32,   36,   40,   44,   48,   52,   56,   60,   64,   68,   72,\n",
              "         76,   80,   84,   88,   92,   96], dtype=int32)>"
            ]
          },
          "metadata": {},
          "execution_count": 24
        }
      ]
    },
    {
      "cell_type": "code",
      "metadata": {
        "colab": {
          "base_uri": "https://localhost:8080/"
        },
        "id": "CHBpElJN50cJ",
        "outputId": "9e397a63-e634-4700-ef0b-8e1ccb3b81ec"
      },
      "source": [
        "# Make labels for the dataset\n",
        "\n",
        "y = x + 10\n",
        "y"
      ],
      "execution_count": 25,
      "outputs": [
        {
          "output_type": "execute_result",
          "data": {
            "text/plain": [
              "<tf.Tensor: shape=(50,), dtype=int32, numpy=\n",
              "array([-90, -86, -82, -78, -74, -70, -66, -62, -58, -54, -50, -46, -42,\n",
              "       -38, -34, -30, -26, -22, -18, -14, -10,  -6,  -2,   2,   6,  10,\n",
              "        14,  18,  22,  26,  30,  34,  38,  42,  46,  50,  54,  58,  62,\n",
              "        66,  70,  74,  78,  82,  86,  90,  94,  98, 102, 106], dtype=int32)>"
            ]
          },
          "metadata": {},
          "execution_count": 25
        }
      ]
    },
    {
      "cell_type": "code",
      "metadata": {
        "colab": {
          "base_uri": "https://localhost:8080/",
          "height": 281
        },
        "id": "eEU1GS7L6HKY",
        "outputId": "df168303-5e6f-4a0d-9cc0-b353756da2f5"
      },
      "source": [
        "# Visualize the data\n",
        "import matplotlib.pyplot as plt\n",
        "\n",
        "plt.scatter(x, y)"
      ],
      "execution_count": 26,
      "outputs": [
        {
          "output_type": "execute_result",
          "data": {
            "text/plain": [
              "<matplotlib.collections.PathCollection at 0x7f0caab32d50>"
            ]
          },
          "metadata": {},
          "execution_count": 26
        },
        {
          "output_type": "display_data",
          "data": {
            "image/png": "[encoded data removed]",
            "text/plain": [
              "<Figure size 432x288 with 1 Axes>"
            ]
          },
          "metadata": {
            "needs_background": "light"
          }
        }
      ]
    },
    {
      "cell_type": "markdown",
      "metadata": {
        "id": "fsd0bag7dvVK"
      },
      "source": [
        "### The 3 sets...\n",
        "\n",
        "* **Training set** - the model learns from this data, which is typically 70-80% of the total data you have available.\n",
        "* **validation set** - the model gets tuned on this data, which is typically 10-5% of the data available.\n",
        "* **Test set** - the model gets evaluated on this data to test what is has learned, this set is typically 10-15% of the total data available."
      ]
    },
    {
      "cell_type": "code",
      "metadata": {
        "colab": {
          "base_uri": "https://localhost:8080/"
        },
        "id": "VQaY4-8CTvDE",
        "outputId": "33298e00-0c71-4844-b308-ada08db6cb4e"
      },
      "source": [
        "# Check the length of how many samples we have\n",
        "len(x)"
      ],
      "execution_count": 27,
      "outputs": [
        {
          "output_type": "execute_result",
          "data": {
            "text/plain": [
              "50"
            ]
          },
          "metadata": {},
          "execution_count": 27
        }
      ]
    },
    {
      "cell_type": "code",
      "metadata": {
        "id": "2KWM71bqjVY5",
        "colab": {
          "base_uri": "https://localhost:8080/"
        },
        "outputId": "67e71862-c1e7-4d0e-9b67-2d9229360b1b"
      },
      "source": [
        "# Split the data into train and test sets\n",
        "\n",
        "x_train = x[:40] # First 40 are training samples (80% of the data)\n",
        "y_train = y[:40]\n",
        "\n",
        "x_test = x[40:] # last 10 are testing samples (20% of the data)\n",
        "y_test = y[40:]\n",
        "len(x_train), len(x_test), len(y_train), len(y_test)"
      ],
      "execution_count": 28,
      "outputs": [
        {
          "output_type": "execute_result",
          "data": {
            "text/plain": [
              "(40, 10, 40, 10)"
            ]
          },
          "metadata": {},
          "execution_count": 28
        }
      ]
    },
    {
      "cell_type": "markdown",
      "metadata": {
        "id": "wXEvGtzgYu_y"
      },
      "source": [
        "### Visualizing the data\n",
        "\n",
        "Now we've got our data in training and test sets... let's visualize it again!"
      ]
    },
    {
      "cell_type": "code",
      "metadata": {
        "colab": {
          "base_uri": "https://localhost:8080/",
          "height": 427
        },
        "id": "3cR80P8SSn51",
        "outputId": "e960a957-f73a-4087-fbf1-14a821949c38"
      },
      "source": [
        "plt.figure(figsize=(10, 7))\n",
        "\n",
        "# Plot training data in blue\n",
        "plt.scatter (x_train, y_train, c=\"b\", label=\"training data\") # Our model will learn on this\n",
        "\n",
        "# Plot test data in green\n",
        "plt.scatter (x_test, y_test, c=\"g\", label=\"testing data\") # Want our model to be able to predict this (given x, what's y?)\n",
        "\n",
        "# show a legond\n",
        "plt.legend();"
      ],
      "execution_count": 29,
      "outputs": [
        {
          "output_type": "display_data",
          "data": {
            "image/png": "[encoded data removed]",
            "text/plain": [
              "<Figure size 720x504 with 1 Axes>"
            ]
          },
          "metadata": {
            "needs_background": "light"
          }
        }
      ]
    },
    {
      "cell_type": "code",
      "metadata": {
        "colab": {
          "base_uri": "https://localhost:8080/"
        },
        "id": "dOkl7SURi7nG",
        "outputId": "45ac63e4-d825-4131-8914-f083d86715dd"
      },
      "source": [
        "x[0], y[0]"
      ],
      "execution_count": 30,
      "outputs": [
        {
          "output_type": "execute_result",
          "data": {
            "text/plain": [
              "(<tf.Tensor: shape=(), dtype=int32, numpy=-100>,\n",
              " <tf.Tensor: shape=(), dtype=int32, numpy=-90>)"
            ]
          },
          "metadata": {},
          "execution_count": 30
        }
      ]
    },
    {
      "cell_type": "code",
      "metadata": {
        "id": "eTIA2BgOg-y8"
      },
      "source": [
        "# Let's a create a model which builds automatically by defining the input_shape argument in first\n",
        "\n",
        "# Set random seed\n",
        "tf.random.set_seed(42)\n",
        "\n",
        "# 1. Create a model using the Sequential API\n",
        "model = tf.keras.Sequential([\n",
        "                             tf.keras.layers.Dense(1, input_shape=[1]) # 1 because we have 1 input and 1 output\n",
        "])\n",
        "\n",
        "# 2. Compile the model\n",
        "model.compile(loss=tf.keras.losses.mae, # mae is short for mean absolute error\n",
        "              optimizer=tf.keras.optimizers.SGD(), # sgd is short for stochastic gradient descent)\n",
        "              metrics=[\"mae\"]) "
      ],
      "execution_count": 31,
      "outputs": []
    },
    {
      "cell_type": "code",
      "metadata": {
        "colab": {
          "base_uri": "https://localhost:8080/"
        },
        "id": "BUZVCywEtxBV",
        "outputId": "e39b8219-d9b1-43bd-f4b1-3dd1240f6843"
      },
      "source": [
        "### Visualizing the model\n",
        "model.summary()"
      ],
      "execution_count": 32,
      "outputs": [
        {
          "output_type": "stream",
          "text": [
            "Model: \"sequential_7\"\n",
            "_________________________________________________________________\n",
            "Layer (type)                 Output Shape              Param #   \n",
            "=================================================================\n",
            "dense_11 (Dense)             (None, 1)                 2         \n",
            "=================================================================\n",
            "Total params: 2\n",
            "Trainable params: 2\n",
            "Non-trainable params: 0\n",
            "_________________________________________________________________\n"
          ],
          "name": "stdout"
        }
      ]
    },
    {
      "cell_type": "markdown",
      "metadata": {
        "id": "LzOj8r6_uLhE"
      },
      "source": [
        "* Total params - total number of parameters in the model.\n",
        "* Trainable params - these are the parameters (patterns) the model can update as it trains.\n",
        "* Non-trainable params - these parameters aren't updated during training (this is typical when you bring in already learn patterns or parameters from other models during **transfer learning**)."
      ]
    },
    {
      "cell_type": "markdown",
      "metadata": {
        "id": "cpA_0m_o8hsc"
      },
      "source": [
        "**Exercise:** Try playing around with the number of hidden units in the dense layer, see how that effects the number of parameters (total and trainable) by calling `model.summary()`"
      ]
    },
    {
      "cell_type": "code",
      "metadata": {
        "id": "B60pi5_ytz7S"
      },
      "source": [
        "# Let's a create a model which builds automatically by defining the input_shape argument in first\n",
        "\n",
        "# Set random seed\n",
        "tf.random.set_seed(42)\n",
        "\n",
        "# 1. Create a model using the Sequential API\n",
        "model = tf.keras.Sequential([\n",
        "                             tf.keras.layers.Dense(2, input_shape=[1]) # 1 because we have 1 input and 1 output\n",
        "])\n",
        "\n",
        "# 2. Compile the model\n",
        "model.compile(loss=tf.keras.losses.mae, # mae is short for mean absolute error\n",
        "              optimizer=tf.keras.optimizers.SGD(), # sgd is short for stochastic gradient descent)\n",
        "              metrics=[\"mae\"]) "
      ],
      "execution_count": 33,
      "outputs": []
    },
    {
      "cell_type": "code",
      "metadata": {
        "colab": {
          "base_uri": "https://localhost:8080/"
        },
        "id": "0AXBCj75Omkq",
        "outputId": "72d66f65-5aa8-43a0-8719-99a29e4d36ae"
      },
      "source": [
        "model.summary()"
      ],
      "execution_count": 34,
      "outputs": [
        {
          "output_type": "stream",
          "text": [
            "Model: \"sequential_8\"\n",
            "_________________________________________________________________\n",
            "Layer (type)                 Output Shape              Param #   \n",
            "=================================================================\n",
            "dense_12 (Dense)             (None, 2)                 4         \n",
            "=================================================================\n",
            "Total params: 4\n",
            "Trainable params: 4\n",
            "Non-trainable params: 0\n",
            "_________________________________________________________________\n"
          ],
          "name": "stdout"
        }
      ]
    },
    {
      "cell_type": "code",
      "metadata": {
        "colab": {
          "base_uri": "https://localhost:8080/"
        },
        "id": "ROvvVqnOOpNu",
        "outputId": "52801fda-ccab-4868-994f-565d40afa79e"
      },
      "source": [
        "# 3. Fit the model\n",
        "model.fit(x_train, y_train, epochs=100)"
      ],
      "execution_count": 35,
      "outputs": [
        {
          "output_type": "stream",
          "text": [
            "Epoch 1/100\n",
            "2/2 [==============================] - 0s 5ms/step - loss: 33.1970 - mae: 33.1970\n",
            "Epoch 2/100\n",
            "2/2 [==============================] - 0s 3ms/step - loss: 18.8325 - mae: 18.8325\n",
            "Epoch 3/100\n",
            "2/2 [==============================] - 0s 4ms/step - loss: 11.1691 - mae: 11.1691\n",
            "Epoch 4/100\n",
            "2/2 [==============================] - 0s 8ms/step - loss: 7.8789 - mae: 7.8789\n",
            "Epoch 5/100\n",
            "2/2 [==============================] - 0s 5ms/step - loss: 8.3661 - mae: 8.3661\n",
            "Epoch 6/100\n",
            "2/2 [==============================] - 0s 8ms/step - loss: 8.1451 - mae: 8.1451\n",
            "Epoch 7/100\n",
            "2/2 [==============================] - 0s 3ms/step - loss: 7.6192 - mae: 7.6192\n",
            "Epoch 8/100\n",
            "2/2 [==============================] - 0s 7ms/step - loss: 7.9365 - mae: 7.9365\n",
            "Epoch 9/100\n",
            "2/2 [==============================] - 0s 8ms/step - loss: 10.8356 - mae: 10.8356\n",
            "Epoch 10/100\n",
            "2/2 [==============================] - 0s 6ms/step - loss: 9.3545 - mae: 9.3545\n",
            "Epoch 11/100\n",
            "2/2 [==============================] - 0s 7ms/step - loss: 8.2014 - mae: 8.2014\n",
            "Epoch 12/100\n",
            "2/2 [==============================] - 0s 4ms/step - loss: 7.8484 - mae: 7.8484\n",
            "Epoch 13/100\n",
            "2/2 [==============================] - 0s 3ms/step - loss: 8.3041 - mae: 8.3041\n",
            "Epoch 14/100\n",
            "2/2 [==============================] - 0s 6ms/step - loss: 9.2781 - mae: 9.2781\n",
            "Epoch 15/100\n",
            "2/2 [==============================] - 0s 4ms/step - loss: 8.2796 - mae: 8.2796\n",
            "Epoch 16/100\n",
            "2/2 [==============================] - 0s 9ms/step - loss: 8.0200 - mae: 8.0200\n",
            "Epoch 17/100\n",
            "2/2 [==============================] - 0s 6ms/step - loss: 8.6339 - mae: 8.6339\n",
            "Epoch 18/100\n",
            "2/2 [==============================] - 0s 7ms/step - loss: 8.6526 - mae: 8.6526\n",
            "Epoch 19/100\n",
            "2/2 [==============================] - 0s 5ms/step - loss: 11.1469 - mae: 11.1469\n",
            "Epoch 20/100\n",
            "2/2 [==============================] - 0s 8ms/step - loss: 8.8140 - mae: 8.8140\n",
            "Epoch 21/100\n",
            "2/2 [==============================] - 0s 7ms/step - loss: 8.7615 - mae: 8.7615\n",
            "Epoch 22/100\n",
            "2/2 [==============================] - 0s 7ms/step - loss: 8.0003 - mae: 8.0003\n",
            "Epoch 23/100\n",
            "2/2 [==============================] - 0s 9ms/step - loss: 7.7303 - mae: 7.7303\n",
            "Epoch 24/100\n",
            "2/2 [==============================] - 0s 4ms/step - loss: 8.9215 - mae: 8.9215\n",
            "Epoch 25/100\n",
            "2/2 [==============================] - 0s 7ms/step - loss: 8.5291 - mae: 8.5291\n",
            "Epoch 26/100\n",
            "2/2 [==============================] - 0s 5ms/step - loss: 9.2279 - mae: 9.2279\n",
            "Epoch 27/100\n",
            "2/2 [==============================] - 0s 7ms/step - loss: 8.7194 - mae: 8.7194\n",
            "Epoch 28/100\n",
            "2/2 [==============================] - 0s 10ms/step - loss: 9.8119 - mae: 9.8119\n",
            "Epoch 29/100\n",
            "2/2 [==============================] - 0s 3ms/step - loss: 8.6730 - mae: 8.6730\n",
            "Epoch 30/100\n",
            "2/2 [==============================] - 0s 3ms/step - loss: 12.3805 - mae: 12.3805\n",
            "Epoch 31/100\n",
            "2/2 [==============================] - 0s 4ms/step - loss: 12.6488 - mae: 12.6488\n",
            "Epoch 32/100\n",
            "2/2 [==============================] - 0s 4ms/step - loss: 7.9785 - mae: 7.9785\n",
            "Epoch 33/100\n",
            "2/2 [==============================] - 0s 6ms/step - loss: 7.8846 - mae: 7.8846\n",
            "Epoch 34/100\n",
            "2/2 [==============================] - 0s 5ms/step - loss: 8.5395 - mae: 8.5395\n",
            "Epoch 35/100\n",
            "2/2 [==============================] - 0s 4ms/step - loss: 8.4677 - mae: 8.4677\n",
            "Epoch 36/100\n",
            "2/2 [==============================] - 0s 5ms/step - loss: 11.5391 - mae: 11.5391\n",
            "Epoch 37/100\n",
            "2/2 [==============================] - 0s 9ms/step - loss: 7.9725 - mae: 7.9725\n",
            "Epoch 38/100\n",
            "2/2 [==============================] - 0s 4ms/step - loss: 7.9109 - mae: 7.9109\n",
            "Epoch 39/100\n",
            "2/2 [==============================] - 0s 5ms/step - loss: 9.7044 - mae: 9.7044\n",
            "Epoch 40/100\n",
            "2/2 [==============================] - 0s 8ms/step - loss: 9.7919 - mae: 9.7919\n",
            "Epoch 41/100\n",
            "2/2 [==============================] - 0s 4ms/step - loss: 8.7264 - mae: 8.7264\n",
            "Epoch 42/100\n",
            "2/2 [==============================] - 0s 4ms/step - loss: 8.1911 - mae: 8.1911\n",
            "Epoch 43/100\n",
            "2/2 [==============================] - 0s 5ms/step - loss: 7.8064 - mae: 7.8064\n",
            "Epoch 44/100\n",
            "2/2 [==============================] - 0s 4ms/step - loss: 9.2143 - mae: 9.2143\n",
            "Epoch 45/100\n",
            "2/2 [==============================] - 0s 7ms/step - loss: 9.9011 - mae: 9.9011\n",
            "Epoch 46/100\n",
            "2/2 [==============================] - 0s 5ms/step - loss: 8.2686 - mae: 8.2686\n",
            "Epoch 47/100\n",
            "2/2 [==============================] - 0s 7ms/step - loss: 7.4726 - mae: 7.4726\n",
            "Epoch 48/100\n",
            "2/2 [==============================] - 0s 4ms/step - loss: 8.2281 - mae: 8.2281\n",
            "Epoch 49/100\n",
            "2/2 [==============================] - 0s 9ms/step - loss: 8.2165 - mae: 8.2165\n",
            "Epoch 50/100\n",
            "2/2 [==============================] - 0s 7ms/step - loss: 8.5765 - mae: 8.5765\n",
            "Epoch 51/100\n",
            "2/2 [==============================] - 0s 5ms/step - loss: 8.5258 - mae: 8.5258\n",
            "Epoch 52/100\n",
            "2/2 [==============================] - 0s 8ms/step - loss: 9.7024 - mae: 9.7024\n",
            "Epoch 53/100\n",
            "2/2 [==============================] - 0s 5ms/step - loss: 9.6629 - mae: 9.6629\n",
            "Epoch 54/100\n",
            "2/2 [==============================] - 0s 4ms/step - loss: 11.8856 - mae: 11.8856\n",
            "Epoch 55/100\n",
            "2/2 [==============================] - 0s 5ms/step - loss: 9.1006 - mae: 9.1006\n",
            "Epoch 56/100\n",
            "2/2 [==============================] - 0s 8ms/step - loss: 8.5324 - mae: 8.5324\n",
            "Epoch 57/100\n",
            "2/2 [==============================] - 0s 5ms/step - loss: 8.4946 - mae: 8.4946\n",
            "Epoch 58/100\n",
            "2/2 [==============================] - 0s 7ms/step - loss: 8.3164 - mae: 8.3164\n",
            "Epoch 59/100\n",
            "2/2 [==============================] - 0s 8ms/step - loss: 7.6381 - mae: 7.6381\n",
            "Epoch 60/100\n",
            "2/2 [==============================] - 0s 4ms/step - loss: 8.5256 - mae: 8.5256\n",
            "Epoch 61/100\n",
            "2/2 [==============================] - 0s 4ms/step - loss: 8.7140 - mae: 8.7140\n",
            "Epoch 62/100\n",
            "2/2 [==============================] - 0s 8ms/step - loss: 8.0863 - mae: 8.0863\n",
            "Epoch 63/100\n",
            "2/2 [==============================] - 0s 4ms/step - loss: 8.2850 - mae: 8.2850\n",
            "Epoch 64/100\n",
            "2/2 [==============================] - 0s 5ms/step - loss: 9.6152 - mae: 9.6152\n",
            "Epoch 65/100\n",
            "2/2 [==============================] - 0s 7ms/step - loss: 8.6294 - mae: 8.6294\n",
            "Epoch 66/100\n",
            "2/2 [==============================] - 0s 8ms/step - loss: 9.6816 - mae: 9.6816\n",
            "Epoch 67/100\n",
            "2/2 [==============================] - 0s 7ms/step - loss: 8.0656 - mae: 8.0656\n",
            "Epoch 68/100\n",
            "2/2 [==============================] - 0s 6ms/step - loss: 8.4380 - mae: 8.4380\n",
            "Epoch 69/100\n",
            "2/2 [==============================] - 0s 7ms/step - loss: 10.3096 - mae: 10.3096\n",
            "Epoch 70/100\n",
            "2/2 [==============================] - 0s 7ms/step - loss: 7.2854 - mae: 7.2854\n",
            "Epoch 71/100\n",
            "2/2 [==============================] - 0s 6ms/step - loss: 7.4698 - mae: 7.4698\n",
            "Epoch 72/100\n",
            "2/2 [==============================] - 0s 4ms/step - loss: 7.2549 - mae: 7.2549\n",
            "Epoch 73/100\n",
            "2/2 [==============================] - 0s 4ms/step - loss: 8.0928 - mae: 8.0928\n",
            "Epoch 74/100\n",
            "2/2 [==============================] - 0s 5ms/step - loss: 9.8891 - mae: 9.8891\n",
            "Epoch 75/100\n",
            "2/2 [==============================] - 0s 6ms/step - loss: 7.8086 - mae: 7.8086\n",
            "Epoch 76/100\n",
            "2/2 [==============================] - 0s 4ms/step - loss: 7.9519 - mae: 7.9519\n",
            "Epoch 77/100\n",
            "2/2 [==============================] - 0s 3ms/step - loss: 9.3930 - mae: 9.3930\n",
            "Epoch 78/100\n",
            "2/2 [==============================] - 0s 3ms/step - loss: 8.6699 - mae: 8.6699\n",
            "Epoch 79/100\n",
            "2/2 [==============================] - 0s 4ms/step - loss: 11.3667 - mae: 11.3667\n",
            "Epoch 80/100\n",
            "2/2 [==============================] - 0s 4ms/step - loss: 8.7254 - mae: 8.7254\n",
            "Epoch 81/100\n",
            "2/2 [==============================] - 0s 7ms/step - loss: 8.9413 - mae: 8.9413\n",
            "Epoch 82/100\n",
            "2/2 [==============================] - 0s 6ms/step - loss: 7.7495 - mae: 7.7495\n",
            "Epoch 83/100\n",
            "2/2 [==============================] - 0s 7ms/step - loss: 7.3248 - mae: 7.3248\n",
            "Epoch 84/100\n",
            "2/2 [==============================] - 0s 4ms/step - loss: 7.7684 - mae: 7.7684\n",
            "Epoch 85/100\n",
            "2/2 [==============================] - 0s 10ms/step - loss: 8.4814 - mae: 8.4814\n",
            "Epoch 86/100\n",
            "2/2 [==============================] - 0s 9ms/step - loss: 8.6393 - mae: 8.6393\n",
            "Epoch 87/100\n",
            "2/2 [==============================] - 0s 5ms/step - loss: 9.9934 - mae: 9.9934\n",
            "Epoch 88/100\n",
            "2/2 [==============================] - 0s 5ms/step - loss: 10.9363 - mae: 10.9363\n",
            "Epoch 89/100\n",
            "2/2 [==============================] - 0s 6ms/step - loss: 7.1815 - mae: 7.1815\n",
            "Epoch 90/100\n",
            "2/2 [==============================] - 0s 4ms/step - loss: 7.9291 - mae: 7.9291\n",
            "Epoch 91/100\n",
            "2/2 [==============================] - 0s 21ms/step - loss: 8.3485 - mae: 8.3485\n",
            "Epoch 92/100\n",
            "2/2 [==============================] - 0s 11ms/step - loss: 7.8113 - mae: 7.8113\n",
            "Epoch 93/100\n",
            "2/2 [==============================] - 0s 5ms/step - loss: 7.9503 - mae: 7.9503\n",
            "Epoch 94/100\n",
            "2/2 [==============================] - 0s 10ms/step - loss: 8.3136 - mae: 8.3136\n",
            "Epoch 95/100\n",
            "2/2 [==============================] - 0s 9ms/step - loss: 8.4683 - mae: 8.4683\n",
            "Epoch 96/100\n",
            "2/2 [==============================] - 0s 8ms/step - loss: 7.8443 - mae: 7.8443\n",
            "Epoch 97/100\n",
            "2/2 [==============================] - 0s 9ms/step - loss: 8.0500 - mae: 8.0500\n",
            "Epoch 98/100\n",
            "2/2 [==============================] - 0s 13ms/step - loss: 7.3687 - mae: 7.3687\n",
            "Epoch 99/100\n",
            "2/2 [==============================] - 0s 15ms/step - loss: 7.9330 - mae: 7.9330\n",
            "Epoch 100/100\n",
            "2/2 [==============================] - 0s 4ms/step - loss: 8.1466 - mae: 8.1466\n"
          ],
          "name": "stdout"
        },
        {
          "output_type": "execute_result",
          "data": {
            "text/plain": [
              "<keras.callbacks.History at 0x7f0caab90c50>"
            ]
          },
          "metadata": {},
          "execution_count": 35
        }
      ]
    },
    {
      "cell_type": "code",
      "metadata": {
        "colab": {
          "base_uri": "https://localhost:8080/"
        },
        "id": "XJM3M5hcQzI5",
        "outputId": "b43fdbbd-96f7-4868-cef5-e138dd7192f8"
      },
      "source": [
        "model.fit(x_train, y_train, epochs=100, verbose=0)\n",
        "\n",
        "# Verbose 0 means there will be no output progress"
      ],
      "execution_count": 36,
      "outputs": [
        {
          "output_type": "execute_result",
          "data": {
            "text/plain": [
              "<keras.callbacks.History at 0x7f0caa9563d0>"
            ]
          },
          "metadata": {},
          "execution_count": 36
        }
      ]
    },
    {
      "cell_type": "code",
      "metadata": {
        "colab": {
          "base_uri": "https://localhost:8080/"
        },
        "id": "ZSaVvI7zRNye",
        "outputId": "9726564d-609c-4136-d08f-bf2e80048fa1"
      },
      "source": [
        "# Get a summary of our model\n",
        "model.summary()"
      ],
      "execution_count": 37,
      "outputs": [
        {
          "output_type": "stream",
          "text": [
            "Model: \"sequential_8\"\n",
            "_________________________________________________________________\n",
            "Layer (type)                 Output Shape              Param #   \n",
            "=================================================================\n",
            "dense_12 (Dense)             (None, 2)                 4         \n",
            "=================================================================\n",
            "Total params: 4\n",
            "Trainable params: 4\n",
            "Non-trainable params: 0\n",
            "_________________________________________________________________\n"
          ],
          "name": "stdout"
        }
      ]
    },
    {
      "cell_type": "code",
      "metadata": {
        "colab": {
          "base_uri": "https://localhost:8080/",
          "height": 174
        },
        "id": "dMUHs3k_R4zq",
        "outputId": "5407c5cf-09ca-4cb9-eaff-46770cc4be41"
      },
      "source": [
        "from tensorflow.keras.utils import plot_model\n",
        "\n",
        "plot_model(model=model)"
      ],
      "execution_count": 38,
      "outputs": [
        {
          "output_type": "execute_result",
          "data": {
            "image/png": "[encoded data removed]",
            "text/plain": [
              "<IPython.core.display.Image object>"
            ]
          },
          "metadata": {},
          "execution_count": 38
        }
      ]
    },
    {
      "cell_type": "code",
      "metadata": {
        "colab": {
          "base_uri": "https://localhost:8080/",
          "height": 201
        },
        "id": "HbrD3G3GVwi-",
        "outputId": "1060ee8b-1835-4258-e463-f0fad6a09f28"
      },
      "source": [
        "plot_model(model=model, show_shapes=True)"
      ],
      "execution_count": 39,
      "outputs": [
        {
          "output_type": "execute_result",
          "data": {
            "image/png": "[encoded data removed]",
            "text/plain": [
              "<IPython.core.display.Image object>"
            ]
          },
          "metadata": {},
          "execution_count": 39
        }
      ]
    },
    {
      "cell_type": "code",
      "metadata": {
        "id": "sDQ3rme0XrF1"
      },
      "source": [
        "# Set random seed\n",
        "tf.random.set_seed(42)\n",
        "\n",
        "# 1. Create a model using the Sequential API\n",
        "model = tf.keras.Sequential([\n",
        "                             tf.keras.layers.Dense(10, input_shape=[1], name=\"input_layer\"),\n",
        "                             tf.keras.layers.Dense(1, name=\"output_layer\") \n",
        "], name=\"model_1\" )\n",
        "\n",
        "# 2. Compile the model\n",
        "model.compile(loss=tf.keras.losses.mae, # mae is short for mean absolute error\n",
        "              optimizer=tf.keras.optimizers.SGD(), # sgd is short for stochastic gradient descent)\n",
        "              metrics=[\"mae\"]) "
      ],
      "execution_count": 40,
      "outputs": []
    },
    {
      "cell_type": "code",
      "metadata": {
        "colab": {
          "base_uri": "https://localhost:8080/"
        },
        "id": "0-76dxmNZQ78",
        "outputId": "eb40d3f3-682c-4e3d-9a10-723b45aa9f65"
      },
      "source": [
        "model.fit(x_train, y_train, epochs=100, verbose=0)"
      ],
      "execution_count": 41,
      "outputs": [
        {
          "output_type": "execute_result",
          "data": {
            "text/plain": [
              "<keras.callbacks.History at 0x7f0caab89f90>"
            ]
          },
          "metadata": {},
          "execution_count": 41
        }
      ]
    },
    {
      "cell_type": "code",
      "metadata": {
        "colab": {
          "base_uri": "https://localhost:8080/"
        },
        "id": "O6f9sqnAZq0K",
        "outputId": "cd2c2eb2-f7d7-4f83-82fb-2625428e805f"
      },
      "source": [
        "model.summary()"
      ],
      "execution_count": 42,
      "outputs": [
        {
          "output_type": "stream",
          "text": [
            "Model: \"model_1\"\n",
            "_________________________________________________________________\n",
            "Layer (type)                 Output Shape              Param #   \n",
            "=================================================================\n",
            "input_layer (Dense)          (None, 10)                20        \n",
            "_________________________________________________________________\n",
            "output_layer (Dense)         (None, 1)                 11        \n",
            "=================================================================\n",
            "Total params: 31\n",
            "Trainable params: 31\n",
            "Non-trainable params: 0\n",
            "_________________________________________________________________\n"
          ],
          "name": "stdout"
        }
      ]
    },
    {
      "cell_type": "code",
      "metadata": {
        "colab": {
          "base_uri": "https://localhost:8080/",
          "height": 312
        },
        "id": "SUQjN48DZtTE",
        "outputId": "32360900-c3ea-41fa-e874-9d498abcb217"
      },
      "source": [
        "plot_model(model=model, show_shapes=True)"
      ],
      "execution_count": 43,
      "outputs": [
        {
          "output_type": "execute_result",
          "data": {
            "image/png": "[encoded data removed]",
            "text/plain": [
              "<IPython.core.display.Image object>"
            ]
          },
          "metadata": {},
          "execution_count": 43
        }
      ]
    },
    {
      "cell_type": "markdown",
      "metadata": {
        "id": "ynWVQ2b2aXbv"
      },
      "source": [
        "### Visualizing our model pridictions\n",
        "\n",
        "To visualize predictions, it's a good idea to plot them against the ground truth labels.\n",
        "\n",
        "often you'll see this in the form of `y_test` or `y_true` versus `y_pred` (ground truth versus your model's predictions)."
      ]
    },
    {
      "cell_type": "code",
      "metadata": {
        "colab": {
          "base_uri": "https://localhost:8080/"
        },
        "id": "jYbX_QElZ9A0",
        "outputId": "dfb28346-20fd-48f1-a86d-4d693a475a82"
      },
      "source": [
        "# Make some predictions\n",
        "y_pred = model.predict(x_test)\n",
        "y_pred"
      ],
      "execution_count": 44,
      "outputs": [
        {
          "output_type": "execute_result",
          "data": {
            "text/plain": [
              "array([[ 70.55218 ],\n",
              "       [ 75.13991 ],\n",
              "       [ 79.72763 ],\n",
              "       [ 84.31535 ],\n",
              "       [ 88.903076],\n",
              "       [ 93.49081 ],\n",
              "       [ 98.07853 ],\n",
              "       [102.66625 ],\n",
              "       [107.253975],\n",
              "       [111.8417  ]], dtype=float32)"
            ]
          },
          "metadata": {},
          "execution_count": 44
        }
      ]
    },
    {
      "cell_type": "code",
      "metadata": {
        "colab": {
          "base_uri": "https://localhost:8080/"
        },
        "id": "CHlsYF9YbLSA",
        "outputId": "84fd7938-40b0-48e8-af8f-667ea55e03a6"
      },
      "source": [
        "y_test"
      ],
      "execution_count": 45,
      "outputs": [
        {
          "output_type": "execute_result",
          "data": {
            "text/plain": [
              "<tf.Tensor: shape=(10,), dtype=int32, numpy=array([ 70,  74,  78,  82,  86,  90,  94,  98, 102, 106], dtype=int32)>"
            ]
          },
          "metadata": {},
          "execution_count": 45
        }
      ]
    },
    {
      "cell_type": "markdown",
      "metadata": {
        "id": "9_5PoxckcjLA"
      },
      "source": [
        "**Note:** If you feel like you're ging to reuse some kind of functionality in the future, it's a good idea to turn it into a function."
      ]
    },
    {
      "cell_type": "code",
      "metadata": {
        "id": "9tythnvsbNuB"
      },
      "source": [
        "# Let's create a plotting function\n",
        "\n",
        "def plot_predictions(train_data=x_train,\n",
        "                     train_labels=y_train,\n",
        "                     test_data=x_test, \n",
        "                     test_labels=y_test, \n",
        "                     predictions=y_pred):\n",
        "  \"\"\"\n",
        "  Plot training data, test data and compares predictions to ground truth labels\n",
        "  \"\"\"\n",
        "  plt.figure(figsize=(10, 7))\n",
        "  # Plot training data in blue\n",
        "  plt.scatter(train_data, train_labels, c=\"b\", label=\"Training data\")\n",
        "  # Plot testing data in green\n",
        "  plt.scatter(test_data, test_labels, c=\"g\", label=\"Testing data\")\n",
        "  # Plot model's predictions in red\n",
        "  plt.scatter(test_data, predictions, c=\"r\", label=\"prediction\")\n",
        "  # Show the legond\n",
        "  plt.legend();\n"
      ],
      "execution_count": 46,
      "outputs": []
    },
    {
      "cell_type": "code",
      "metadata": {
        "colab": {
          "base_uri": "https://localhost:8080/",
          "height": 427
        },
        "id": "rMBc0_HteSqw",
        "outputId": "f7a0976b-e7d4-4ce1-cd3a-08a27507355f"
      },
      "source": [
        "plot_predictions(train_data=x_train,\n",
        "                 train_labels=y_train,\n",
        "                 test_data=x_test, \n",
        "                 test_labels=y_test, \n",
        "                 predictions=y_pred)"
      ],
      "execution_count": 47,
      "outputs": [
        {
          "output_type": "display_data",
          "data": {
            "image/png": "[encoded data removed]",
            "text/plain": [
              "<Figure size 720x504 with 1 Axes>"
            ]
          },
          "metadata": {
            "needs_background": "light"
          }
        }
      ]
    },
    {
      "cell_type": "markdown",
      "metadata": {
        "id": "U1yuwliZIYIq"
      },
      "source": [
        "### Evaluating our model's prediction with regression evaluation metrics\n",
        "\n",
        "Depending on the problem you're working on. there will be different evaluation metrics to evaluate your model's performance.\n",
        "\n",
        "Since we're working on a regression, two of the main metrics:\n",
        "* MAE - mean absolute error, \"on average, how wrong is each of my model's predictions\"\n",
        "* MSE - mean square error, \"square the average errors\""
      ]
    },
    {
      "cell_type": "code",
      "metadata": {
        "id": "Sg_I59nseWrH",
        "colab": {
          "base_uri": "https://localhost:8080/"
        },
        "outputId": "44c3786c-c2ab-47c9-caae-095f2a2e281d"
      },
      "source": [
        "# Evaluated the model on the test set\n",
        "model.evaluate(x_test, y_test)"
      ],
      "execution_count": 48,
      "outputs": [
        {
          "output_type": "stream",
          "text": [
            "1/1 [==============================] - 0s 123ms/step - loss: 3.1969 - mae: 3.1969\n"
          ],
          "name": "stdout"
        },
        {
          "output_type": "execute_result",
          "data": {
            "text/plain": [
              "[3.196942090988159, 3.196942090988159]"
            ]
          },
          "metadata": {},
          "execution_count": 48
        }
      ]
    },
    {
      "cell_type": "code",
      "metadata": {
        "colab": {
          "base_uri": "https://localhost:8080/"
        },
        "id": "Wz5MpxwFOLPa",
        "outputId": "d1af46f6-992c-4687-8ab8-2f454b3f4c3c"
      },
      "source": [
        "# Calculate the mean absolute error\n",
        "mae = tf.metrics.mean_absolute_error(y_true=y_test, \n",
        "                                     y_pred=y_pred)\n",
        "mae\n",
        "\n",
        "# Not work, because one of them is array and another is tensor. the other reason is shape of them are not same"
      ],
      "execution_count": 58,
      "outputs": [
        {
          "output_type": "execute_result",
          "data": {
            "text/plain": [
              "<tf.Tensor: shape=(10,), dtype=float32, numpy=\n",
              "array([17.558258 , 14.1160555, 11.708948 , 10.336929 , 10.       ,\n",
              "       10.698161 , 12.447118 , 15.333002 , 19.253975 , 23.841698 ],\n",
              "      dtype=float32)>"
            ]
          },
          "metadata": {},
          "execution_count": 58
        }
      ]
    },
    {
      "cell_type": "code",
      "metadata": {
        "colab": {
          "base_uri": "https://localhost:8080/"
        },
        "id": "eAu9JoUOVS_s",
        "outputId": "bce0fa99-d8de-401d-f615-1842e0cd2477"
      },
      "source": [
        "tf.constant(y_pred)"
      ],
      "execution_count": 55,
      "outputs": [
        {
          "output_type": "execute_result",
          "data": {
            "text/plain": [
              "<tf.Tensor: shape=(10, 1), dtype=float32, numpy=\n",
              "array([[ 70.55218 ],\n",
              "       [ 75.13991 ],\n",
              "       [ 79.72763 ],\n",
              "       [ 84.31535 ],\n",
              "       [ 88.903076],\n",
              "       [ 93.49081 ],\n",
              "       [ 98.07853 ],\n",
              "       [102.66625 ],\n",
              "       [107.253975],\n",
              "       [111.8417  ]], dtype=float32)>"
            ]
          },
          "metadata": {},
          "execution_count": 55
        }
      ]
    },
    {
      "cell_type": "code",
      "metadata": {
        "colab": {
          "base_uri": "https://localhost:8080/"
        },
        "id": "8qNFHvHXWelY",
        "outputId": "7a21f8e9-98f2-4b11-98c6-5ba74901e31f"
      },
      "source": [
        "y_test\n",
        "\n",
        "# Shape of y_test and y_pred are not the same "
      ],
      "execution_count": 54,
      "outputs": [
        {
          "output_type": "execute_result",
          "data": {
            "text/plain": [
              "<tf.Tensor: shape=(10,), dtype=int32, numpy=array([ 70,  74,  78,  82,  86,  90,  94,  98, 102, 106], dtype=int32)>"
            ]
          },
          "metadata": {},
          "execution_count": 54
        }
      ]
    },
    {
      "cell_type": "code",
      "metadata": {
        "colab": {
          "base_uri": "https://localhost:8080/"
        },
        "id": "FQn6z670XFtE",
        "outputId": "0a8cb366-19ce-4cdf-c979-2ee988dc56ac"
      },
      "source": [
        "tf.squeeze(y_pred)\n",
        "\n",
        "# Now shape of y_test and y_pred are the same"
      ],
      "execution_count": 56,
      "outputs": [
        {
          "output_type": "execute_result",
          "data": {
            "text/plain": [
              "<tf.Tensor: shape=(10,), dtype=float32, numpy=\n",
              "array([ 70.55218 ,  75.13991 ,  79.72763 ,  84.31535 ,  88.903076,\n",
              "        93.49081 ,  98.07853 , 102.66625 , 107.253975, 111.8417  ],\n",
              "      dtype=float32)>"
            ]
          },
          "metadata": {},
          "execution_count": 56
        }
      ]
    },
    {
      "cell_type": "code",
      "metadata": {
        "colab": {
          "base_uri": "https://localhost:8080/"
        },
        "id": "mpraUroVZ6j8",
        "outputId": "3911b2a2-53e4-4330-abbb-360ec2968fda"
      },
      "source": [
        "# Now again calculate the mean absolute error\n",
        "mae = tf.metrics.mean_absolute_error(y_true=y_test, \n",
        "                                     y_pred=tf.squeeze(y_pred))\n",
        "mae"
      ],
      "execution_count": 59,
      "outputs": [
        {
          "output_type": "execute_result",
          "data": {
            "text/plain": [
              "<tf.Tensor: shape=(), dtype=float32, numpy=3.1969407>"
            ]
          },
          "metadata": {},
          "execution_count": 59
        }
      ]
    },
    {
      "cell_type": "code",
      "metadata": {
        "colab": {
          "base_uri": "https://localhost:8080/"
        },
        "id": "rZ9zx8xNb57-",
        "outputId": "d7596866-c4de-464e-e30b-23d37b872234"
      },
      "source": [
        "# Calculate the mean square error\n",
        "mse = tf.metrics.mean_squared_error(y_true=y_test, \n",
        "                                     y_pred=tf.squeeze(y_pred))\n",
        "mse"
      ],
      "execution_count": 60,
      "outputs": [
        {
          "output_type": "execute_result",
          "data": {
            "text/plain": [
              "<tf.Tensor: shape=(), dtype=float32, numpy=13.070143>"
            ]
          },
          "metadata": {},
          "execution_count": 60
        }
      ]
    },
    {
      "cell_type": "code",
      "metadata": {
        "id": "GwZ4KZvBfgkd"
      },
      "source": [
        "# Make some functions to reuse MAE and MSE\n",
        "def mae(y_true, y_pred):\n",
        "  return tf.metrics.mean_absolute_error(y_true=y_test, \n",
        "                                        y_pred=tf.squeeze(y_pred))\n",
        "  \n",
        "def mse(y_true, y_pred):\n",
        "  return tf.metrics.mean_squared_error(y_true=y_test, \n",
        "                                        y_pred=tf.squeeze(y_pred))"
      ],
      "execution_count": 61,
      "outputs": []
    },
    {
      "cell_type": "code",
      "metadata": {
        "id": "uOUuKhYsgrne"
      },
      "source": [
        ""
      ],
      "execution_count": null,
      "outputs": []
    }
  ]
}