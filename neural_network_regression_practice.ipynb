{
  "nbformat": 4,
  "nbformat_minor": 0,
  "metadata": {
    "colab": {
      "name": "neural_network_regression_practice.ipynb",
      "provenance": [],
      "authorship_tag": "ABX9TyNRIImlfZuioV/vICIbx5HX",
      "include_colab_link": true
    },
    "kernelspec": {
      "display_name": "Python 3",
      "name": "python3"
    },
    "language_info": {
      "name": "python"
    }
  },
  "cells": [
    {
      "cell_type": "markdown",
      "metadata": {
        "id": "view-in-github",
        "colab_type": "text"
      },
      "source": [
        "<a href=\"https://colab.research.google.com/github/kianakiaei/TensorFlow/blob/main/neural_network_regression_practice.ipynb\" target=\"_parent\"><img src=\"https://colab.research.google.com/assets/colab-badge.svg\" alt=\"Open In Colab\"/></a>"
      ]
    },
    {
      "cell_type": "code",
      "metadata": {
        "id": "0XMboQhztn3L"
      },
      "source": [
        "import tensorflow as tf\n",
        "import matplotlib.pyplot as plt\n",
        "import pandas as pd\n",
        "from sklearn.model_selection import train_test_split"
      ],
      "execution_count": 1,
      "outputs": []
    },
    {
      "cell_type": "markdown",
      "metadata": {
        "id": "VIwHxxNhwgb5"
      },
      "source": [
        "1. Create your own regression dataset (or make the one we created in \"Create data to view and fit\" bigger) and build fit a model to it."
      ]
    },
    {
      "cell_type": "code",
      "metadata": {
        "id": "FRMhpm6yqiW2"
      },
      "source": [
        "# x = a\n",
        "# y = a^2+1\n",
        "\n",
        "x = tf.constant([-50, -45, -40, -35, -30, -25, -20, -15, -10, -5, 0, 5, 10, 15, 20, 25, 30, 35, 40, 45, 50])\n",
        "y = tf.constant(tf.pow(x, 2) + 1)"
      ],
      "execution_count": 2,
      "outputs": []
    },
    {
      "cell_type": "code",
      "metadata": {
        "colab": {
          "base_uri": "https://localhost:8080/"
        },
        "id": "6r-JBZ4ztnZk",
        "outputId": "1369a455-98fb-4d95-ec5b-fc6add10090f"
      },
      "source": [
        "y"
      ],
      "execution_count": 3,
      "outputs": [
        {
          "output_type": "execute_result",
          "data": {
            "text/plain": [
              "<tf.Tensor: shape=(21,), dtype=int32, numpy=\n",
              "array([2501, 2026, 1601, 1226,  901,  626,  401,  226,  101,   26,    1,\n",
              "         26,  101,  226,  401,  626,  901, 1226, 1601, 2026, 2501],\n",
              "      dtype=int32)>"
            ]
          },
          "metadata": {},
          "execution_count": 3
        }
      ]
    },
    {
      "cell_type": "code",
      "metadata": {
        "colab": {
          "base_uri": "https://localhost:8080/",
          "height": 281
        },
        "id": "dKs3PL9muri_",
        "outputId": "f49b2769-bb42-432f-9cfc-da98d7f6c436"
      },
      "source": [
        "plt.plot(x, y)"
      ],
      "execution_count": 4,
      "outputs": [
        {
          "output_type": "execute_result",
          "data": {
            "text/plain": [
              "[<matplotlib.lines.Line2D at 0x7fb850e31d90>]"
            ]
          },
          "metadata": {},
          "execution_count": 4
        },
        {
          "output_type": "display_data",
          "data": {
            "image/png": "[encoded data removed]",
            "text/plain": [
              "<Figure size 432x288 with 1 Axes>"
            ]
          },
          "metadata": {
            "needs_background": "light"
          }
        }
      ]
    },
    {
      "cell_type": "code",
      "metadata": {
        "colab": {
          "base_uri": "https://localhost:8080/"
        },
        "id": "oRuoRWGhv5BT",
        "outputId": "ae2d9337-4d86-4fe3-afaf-16ace005c8a1"
      },
      "source": [
        "tf.random.set_seed(42)\n",
        "\n",
        "model_1 = tf.keras.Sequential(\n",
        "                     tf.keras.layers.Dense(1)\n",
        ")\n",
        "\n",
        "model_1.compile(loss=tf.keras.losses.mae,\n",
        "                optimizer=tf.keras.optimizers.Adam(),\n",
        "                metrics=[\"mae\"])\n",
        "\n",
        "model_1.fit(x, y, epochs=100)"
      ],
      "execution_count": 5,
      "outputs": [
        {
          "output_type": "stream",
          "name": "stdout",
          "text": [
            "Epoch 1/100\n",
            "1/1 [==============================] - 1s 645ms/step - loss: 917.6667 - mae: 917.6667\n",
            "Epoch 2/100\n",
            "1/1 [==============================] - 0s 5ms/step - loss: 917.6657 - mae: 917.6657\n",
            "Epoch 3/100\n",
            "1/1 [==============================] - 0s 5ms/step - loss: 917.6646 - mae: 917.6646\n",
            "Epoch 4/100\n",
            "1/1 [==============================] - 0s 4ms/step - loss: 917.6637 - mae: 917.6637\n",
            "Epoch 5/100\n",
            "1/1 [==============================] - 0s 3ms/step - loss: 917.6627 - mae: 917.6627\n",
            "Epoch 6/100\n",
            "1/1 [==============================] - 0s 4ms/step - loss: 917.6616 - mae: 917.6616\n",
            "Epoch 7/100\n",
            "1/1 [==============================] - 0s 4ms/step - loss: 917.6606 - mae: 917.6606\n",
            "Epoch 8/100\n",
            "1/1 [==============================] - 0s 3ms/step - loss: 917.6596 - mae: 917.6596\n",
            "Epoch 9/100\n",
            "1/1 [==============================] - 0s 4ms/step - loss: 917.6587 - mae: 917.6587\n",
            "Epoch 10/100\n",
            "1/1 [==============================] - 0s 3ms/step - loss: 917.6577 - mae: 917.6577\n",
            "Epoch 11/100\n",
            "1/1 [==============================] - 0s 5ms/step - loss: 917.6566 - mae: 917.6566\n",
            "Epoch 12/100\n",
            "1/1 [==============================] - 0s 5ms/step - loss: 917.6557 - mae: 917.6557\n",
            "Epoch 13/100\n",
            "1/1 [==============================] - 0s 5ms/step - loss: 917.6547 - mae: 917.6547\n",
            "Epoch 14/100\n",
            "1/1 [==============================] - 0s 4ms/step - loss: 917.6536 - mae: 917.6536\n",
            "Epoch 15/100\n",
            "1/1 [==============================] - 0s 5ms/step - loss: 917.6527 - mae: 917.6527\n",
            "Epoch 16/100\n",
            "1/1 [==============================] - 0s 3ms/step - loss: 917.6516 - mae: 917.6516\n",
            "Epoch 17/100\n",
            "1/1 [==============================] - 0s 4ms/step - loss: 917.6507 - mae: 917.6507\n",
            "Epoch 18/100\n",
            "1/1 [==============================] - 0s 6ms/step - loss: 917.6497 - mae: 917.6497\n",
            "Epoch 19/100\n",
            "1/1 [==============================] - 0s 4ms/step - loss: 917.6487 - mae: 917.6487\n",
            "Epoch 20/100\n",
            "1/1 [==============================] - 0s 4ms/step - loss: 917.6477 - mae: 917.6477\n",
            "Epoch 21/100\n",
            "1/1 [==============================] - 0s 7ms/step - loss: 917.6467 - mae: 917.6467\n",
            "Epoch 22/100\n",
            "1/1 [==============================] - 0s 4ms/step - loss: 917.6456 - mae: 917.6456\n",
            "Epoch 23/100\n",
            "1/1 [==============================] - 0s 4ms/step - loss: 917.6447 - mae: 917.6447\n",
            "Epoch 24/100\n",
            "1/1 [==============================] - 0s 6ms/step - loss: 917.6436 - mae: 917.6436\n",
            "Epoch 25/100\n",
            "1/1 [==============================] - 0s 8ms/step - loss: 917.6427 - mae: 917.6427\n",
            "Epoch 26/100\n",
            "1/1 [==============================] - 0s 4ms/step - loss: 917.6417 - mae: 917.6417\n",
            "Epoch 27/100\n",
            "1/1 [==============================] - 0s 3ms/step - loss: 917.6407 - mae: 917.6407\n",
            "Epoch 28/100\n",
            "1/1 [==============================] - 0s 4ms/step - loss: 917.6397 - mae: 917.6397\n",
            "Epoch 29/100\n",
            "1/1 [==============================] - 0s 4ms/step - loss: 917.6385 - mae: 917.6385\n",
            "Epoch 30/100\n",
            "1/1 [==============================] - 0s 3ms/step - loss: 917.6378 - mae: 917.6378\n",
            "Epoch 31/100\n",
            "1/1 [==============================] - 0s 27ms/step - loss: 917.6367 - mae: 917.6367\n",
            "Epoch 32/100\n",
            "1/1 [==============================] - 0s 5ms/step - loss: 917.6356 - mae: 917.6356\n",
            "Epoch 33/100\n",
            "1/1 [==============================] - 0s 9ms/step - loss: 917.6346 - mae: 917.6346\n",
            "Epoch 34/100\n",
            "1/1 [==============================] - 0s 4ms/step - loss: 917.6337 - mae: 917.6337\n",
            "Epoch 35/100\n",
            "1/1 [==============================] - 0s 4ms/step - loss: 917.6326 - mae: 917.6326\n",
            "Epoch 36/100\n",
            "1/1 [==============================] - 0s 4ms/step - loss: 917.6316 - mae: 917.6316\n",
            "Epoch 37/100\n",
            "1/1 [==============================] - 0s 4ms/step - loss: 917.6307 - mae: 917.6307\n",
            "Epoch 38/100\n",
            "1/1 [==============================] - 0s 4ms/step - loss: 917.6296 - mae: 917.6296\n",
            "Epoch 39/100\n",
            "1/1 [==============================] - 0s 7ms/step - loss: 917.6287 - mae: 917.6287\n",
            "Epoch 40/100\n",
            "1/1 [==============================] - 0s 5ms/step - loss: 917.6277 - mae: 917.6277\n",
            "Epoch 41/100\n",
            "1/1 [==============================] - 0s 4ms/step - loss: 917.6266 - mae: 917.6266\n",
            "Epoch 42/100\n",
            "1/1 [==============================] - 0s 4ms/step - loss: 917.6257 - mae: 917.6257\n",
            "Epoch 43/100\n",
            "1/1 [==============================] - 0s 4ms/step - loss: 917.6246 - mae: 917.6246\n",
            "Epoch 44/100\n",
            "1/1 [==============================] - 0s 4ms/step - loss: 917.6237 - mae: 917.6237\n",
            "Epoch 45/100\n",
            "1/1 [==============================] - 0s 5ms/step - loss: 917.6226 - mae: 917.6226\n",
            "Epoch 46/100\n",
            "1/1 [==============================] - 0s 4ms/step - loss: 917.6216 - mae: 917.6216\n",
            "Epoch 47/100\n",
            "1/1 [==============================] - 0s 4ms/step - loss: 917.6206 - mae: 917.6206\n",
            "Epoch 48/100\n",
            "1/1 [==============================] - 0s 6ms/step - loss: 917.6197 - mae: 917.6197\n",
            "Epoch 49/100\n",
            "1/1 [==============================] - 0s 3ms/step - loss: 917.6187 - mae: 917.6187\n",
            "Epoch 50/100\n",
            "1/1 [==============================] - 0s 4ms/step - loss: 917.6177 - mae: 917.6177\n",
            "Epoch 51/100\n",
            "1/1 [==============================] - 0s 6ms/step - loss: 917.6166 - mae: 917.6166\n",
            "Epoch 52/100\n",
            "1/1 [==============================] - 0s 3ms/step - loss: 917.6157 - mae: 917.6157\n",
            "Epoch 53/100\n",
            "1/1 [==============================] - 0s 5ms/step - loss: 917.6147 - mae: 917.6147\n",
            "Epoch 54/100\n",
            "1/1 [==============================] - 0s 5ms/step - loss: 917.6136 - mae: 917.6136\n",
            "Epoch 55/100\n",
            "1/1 [==============================] - 0s 5ms/step - loss: 917.6126 - mae: 917.6126\n",
            "Epoch 56/100\n",
            "1/1 [==============================] - 0s 4ms/step - loss: 917.6117 - mae: 917.6117\n",
            "Epoch 57/100\n",
            "1/1 [==============================] - 0s 6ms/step - loss: 917.6107 - mae: 917.6107\n",
            "Epoch 58/100\n",
            "1/1 [==============================] - 0s 4ms/step - loss: 917.6097 - mae: 917.6097\n",
            "Epoch 59/100\n",
            "1/1 [==============================] - 0s 7ms/step - loss: 917.6086 - mae: 917.6086\n",
            "Epoch 60/100\n",
            "1/1 [==============================] - 0s 3ms/step - loss: 917.6077 - mae: 917.6077\n",
            "Epoch 61/100\n",
            "1/1 [==============================] - 0s 4ms/step - loss: 917.6066 - mae: 917.6066\n",
            "Epoch 62/100\n",
            "1/1 [==============================] - 0s 6ms/step - loss: 917.6057 - mae: 917.6057\n",
            "Epoch 63/100\n",
            "1/1 [==============================] - 0s 4ms/step - loss: 917.6046 - mae: 917.6046\n",
            "Epoch 64/100\n",
            "1/1 [==============================] - 0s 7ms/step - loss: 917.6037 - mae: 917.6037\n",
            "Epoch 65/100\n",
            "1/1 [==============================] - 0s 3ms/step - loss: 917.6027 - mae: 917.6027\n",
            "Epoch 66/100\n",
            "1/1 [==============================] - 0s 4ms/step - loss: 917.6017 - mae: 917.6017\n",
            "Epoch 67/100\n",
            "1/1 [==============================] - 0s 4ms/step - loss: 917.6006 - mae: 917.6006\n",
            "Epoch 68/100\n",
            "1/1 [==============================] - 0s 5ms/step - loss: 917.5997 - mae: 917.5997\n",
            "Epoch 69/100\n",
            "1/1 [==============================] - 0s 3ms/step - loss: 917.5987 - mae: 917.5987\n",
            "Epoch 70/100\n",
            "1/1 [==============================] - 0s 4ms/step - loss: 917.5977 - mae: 917.5977\n",
            "Epoch 71/100\n",
            "1/1 [==============================] - 0s 6ms/step - loss: 917.5967 - mae: 917.5967\n",
            "Epoch 72/100\n",
            "1/1 [==============================] - 0s 5ms/step - loss: 917.5956 - mae: 917.5956\n",
            "Epoch 73/100\n",
            "1/1 [==============================] - 0s 3ms/step - loss: 917.5947 - mae: 917.5947\n",
            "Epoch 74/100\n",
            "1/1 [==============================] - 0s 6ms/step - loss: 917.5936 - mae: 917.5936\n",
            "Epoch 75/100\n",
            "1/1 [==============================] - 0s 7ms/step - loss: 917.5927 - mae: 917.5927\n",
            "Epoch 76/100\n",
            "1/1 [==============================] - 0s 5ms/step - loss: 917.5916 - mae: 917.5916\n",
            "Epoch 77/100\n",
            "1/1 [==============================] - 0s 5ms/step - loss: 917.5907 - mae: 917.5907\n",
            "Epoch 78/100\n",
            "1/1 [==============================] - 0s 4ms/step - loss: 917.5897 - mae: 917.5897\n",
            "Epoch 79/100\n",
            "1/1 [==============================] - 0s 4ms/step - loss: 917.5886 - mae: 917.5886\n",
            "Epoch 80/100\n",
            "1/1 [==============================] - 0s 3ms/step - loss: 917.5877 - mae: 917.5877\n",
            "Epoch 81/100\n",
            "1/1 [==============================] - 0s 4ms/step - loss: 917.5867 - mae: 917.5867\n",
            "Epoch 82/100\n",
            "1/1 [==============================] - 0s 4ms/step - loss: 917.5856 - mae: 917.5856\n",
            "Epoch 83/100\n",
            "1/1 [==============================] - 0s 5ms/step - loss: 917.5847 - mae: 917.5847\n",
            "Epoch 84/100\n",
            "1/1 [==============================] - 0s 4ms/step - loss: 917.5837 - mae: 917.5837\n",
            "Epoch 85/100\n",
            "1/1 [==============================] - 0s 4ms/step - loss: 917.5827 - mae: 917.5827\n",
            "Epoch 86/100\n",
            "1/1 [==============================] - 0s 4ms/step - loss: 917.5817 - mae: 917.5817\n",
            "Epoch 87/100\n",
            "1/1 [==============================] - 0s 5ms/step - loss: 917.5806 - mae: 917.5806\n",
            "Epoch 88/100\n",
            "1/1 [==============================] - 0s 4ms/step - loss: 917.5797 - mae: 917.5797\n",
            "Epoch 89/100\n",
            "1/1 [==============================] - 0s 6ms/step - loss: 917.5787 - mae: 917.5787\n",
            "Epoch 90/100\n",
            "1/1 [==============================] - 0s 4ms/step - loss: 917.5776 - mae: 917.5776\n",
            "Epoch 91/100\n",
            "1/1 [==============================] - 0s 5ms/step - loss: 917.5767 - mae: 917.5767\n",
            "Epoch 92/100\n",
            "1/1 [==============================] - 0s 5ms/step - loss: 917.5757 - mae: 917.5757\n",
            "Epoch 93/100\n",
            "1/1 [==============================] - 0s 6ms/step - loss: 917.5747 - mae: 917.5747\n",
            "Epoch 94/100\n",
            "1/1 [==============================] - 0s 4ms/step - loss: 917.5737 - mae: 917.5737\n",
            "Epoch 95/100\n",
            "1/1 [==============================] - 0s 6ms/step - loss: 917.5726 - mae: 917.5726\n",
            "Epoch 96/100\n",
            "1/1 [==============================] - 0s 4ms/step - loss: 917.5716 - mae: 917.5716\n",
            "Epoch 97/100\n",
            "1/1 [==============================] - 0s 6ms/step - loss: 917.5707 - mae: 917.5707\n",
            "Epoch 98/100\n",
            "1/1 [==============================] - 0s 5ms/step - loss: 917.5696 - mae: 917.5696\n",
            "Epoch 99/100\n",
            "1/1 [==============================] - 0s 5ms/step - loss: 917.5687 - mae: 917.5687\n",
            "Epoch 100/100\n",
            "1/1 [==============================] - 0s 3ms/step - loss: 917.5677 - mae: 917.5677\n"
          ]
        },
        {
          "output_type": "execute_result",
          "data": {
            "text/plain": [
              "<keras.callbacks.History at 0x7fb84f6dadd0>"
            ]
          },
          "metadata": {},
          "execution_count": 5
        }
      ]
    },
    {
      "cell_type": "code",
      "metadata": {
        "colab": {
          "base_uri": "https://localhost:8080/"
        },
        "id": "KZ5h1gMGxYGL",
        "outputId": "5bb3fbda-d194-441e-81d6-cc2fefcde9b9"
      },
      "source": [
        "model_1.predict([3])\n",
        "\n",
        "# We expect 10"
      ],
      "execution_count": 6,
      "outputs": [
        {
          "output_type": "execute_result",
          "data": {
            "text/plain": [
              "array([[1.8033158]], dtype=float32)"
            ]
          },
          "metadata": {},
          "execution_count": 6
        }
      ]
    },
    {
      "cell_type": "markdown",
      "metadata": {
        "id": "AhVr00oWwn9-"
      },
      "source": [
        "2. Try building a neural network with 4 Dense layers and fitting it to your own regression dataset, how does it perform?"
      ]
    },
    {
      "cell_type": "code",
      "metadata": {
        "colab": {
          "base_uri": "https://localhost:8080/"
        },
        "id": "u87bEF8M3dQi",
        "outputId": "62eb051b-103a-400c-8ef7-9222d8485204"
      },
      "source": [
        "tf.random.set_seed(42)\n",
        "\n",
        "model_2 = tf.keras.Sequential([\n",
        "                     tf.keras.layers.Dense(100),\n",
        "                     tf.keras.layers.Dense(60),\n",
        "                     tf.keras.layers.Dense(30),\n",
        "                     tf.keras.layers.Dense(1)\n",
        "])\n",
        "\n",
        "model_2.compile(loss=tf.keras.losses.mae,\n",
        "                optimizer=tf.keras.optimizers.Adam(),\n",
        "                metrics=[\"mae\"])\n",
        "\n",
        "model_2.fit(x, y, epochs=100)"
      ],
      "execution_count": 7,
      "outputs": [
        {
          "output_type": "stream",
          "name": "stdout",
          "text": [
            "Epoch 1/100\n",
            "1/1 [==============================] - 1s 569ms/step - loss: 917.6667 - mae: 917.6667\n",
            "Epoch 2/100\n",
            "1/1 [==============================] - 0s 8ms/step - loss: 917.6398 - mae: 917.6398\n",
            "Epoch 3/100\n",
            "1/1 [==============================] - 0s 9ms/step - loss: 917.6105 - mae: 917.6105\n",
            "Epoch 4/100\n",
            "1/1 [==============================] - 0s 7ms/step - loss: 917.5780 - mae: 917.5780\n",
            "Epoch 5/100\n",
            "1/1 [==============================] - 0s 4ms/step - loss: 917.5423 - mae: 917.5423\n",
            "Epoch 6/100\n",
            "1/1 [==============================] - 0s 9ms/step - loss: 917.5030 - mae: 917.5030\n",
            "Epoch 7/100\n",
            "1/1 [==============================] - 0s 6ms/step - loss: 917.4595 - mae: 917.4595\n",
            "Epoch 8/100\n",
            "1/1 [==============================] - 0s 9ms/step - loss: 917.4117 - mae: 917.4117\n",
            "Epoch 9/100\n",
            "1/1 [==============================] - 0s 3ms/step - loss: 917.3591 - mae: 917.3591\n",
            "Epoch 10/100\n",
            "1/1 [==============================] - 0s 4ms/step - loss: 917.3015 - mae: 917.3015\n",
            "Epoch 11/100\n",
            "1/1 [==============================] - 0s 3ms/step - loss: 917.2382 - mae: 917.2382\n",
            "Epoch 12/100\n",
            "1/1 [==============================] - 0s 5ms/step - loss: 917.1687 - mae: 917.1687\n",
            "Epoch 13/100\n",
            "1/1 [==============================] - 0s 4ms/step - loss: 917.0928 - mae: 917.0928\n",
            "Epoch 14/100\n",
            "1/1 [==============================] - 0s 5ms/step - loss: 917.0098 - mae: 917.0098\n",
            "Epoch 15/100\n",
            "1/1 [==============================] - 0s 4ms/step - loss: 916.9191 - mae: 916.9191\n",
            "Epoch 16/100\n",
            "1/1 [==============================] - 0s 5ms/step - loss: 916.8199 - mae: 916.8199\n",
            "Epoch 17/100\n",
            "1/1 [==============================] - 0s 4ms/step - loss: 916.7119 - mae: 916.7119\n",
            "Epoch 18/100\n",
            "1/1 [==============================] - 0s 4ms/step - loss: 916.6011 - mae: 916.6011\n",
            "Epoch 19/100\n",
            "1/1 [==============================] - 0s 4ms/step - loss: 916.4854 - mae: 916.4854\n",
            "Epoch 20/100\n",
            "1/1 [==============================] - 0s 6ms/step - loss: 916.3599 - mae: 916.3599\n",
            "Epoch 21/100\n",
            "1/1 [==============================] - 0s 3ms/step - loss: 916.2235 - mae: 916.2235\n",
            "Epoch 22/100\n",
            "1/1 [==============================] - 0s 4ms/step - loss: 916.0759 - mae: 916.0759\n",
            "Epoch 23/100\n",
            "1/1 [==============================] - 0s 8ms/step - loss: 915.9157 - mae: 915.9157\n",
            "Epoch 24/100\n",
            "1/1 [==============================] - 0s 4ms/step - loss: 915.7426 - mae: 915.7426\n",
            "Epoch 25/100\n",
            "1/1 [==============================] - 0s 4ms/step - loss: 915.5551 - mae: 915.5551\n",
            "Epoch 26/100\n",
            "1/1 [==============================] - 0s 4ms/step - loss: 915.3526 - mae: 915.3526\n",
            "Epoch 27/100\n",
            "1/1 [==============================] - 0s 4ms/step - loss: 915.1339 - mae: 915.1339\n",
            "Epoch 28/100\n",
            "1/1 [==============================] - 0s 9ms/step - loss: 914.8979 - mae: 914.8979\n",
            "Epoch 29/100\n",
            "1/1 [==============================] - 0s 4ms/step - loss: 914.6437 - mae: 914.6437\n",
            "Epoch 30/100\n",
            "1/1 [==============================] - 0s 4ms/step - loss: 914.3699 - mae: 914.3699\n",
            "Epoch 31/100\n",
            "1/1 [==============================] - 0s 4ms/step - loss: 914.0753 - mae: 914.0753\n",
            "Epoch 32/100\n",
            "1/1 [==============================] - 0s 6ms/step - loss: 913.7585 - mae: 913.7585\n",
            "Epoch 33/100\n",
            "1/1 [==============================] - 0s 6ms/step - loss: 913.4183 - mae: 913.4183\n",
            "Epoch 34/100\n",
            "1/1 [==============================] - 0s 10ms/step - loss: 913.0532 - mae: 913.0532\n",
            "Epoch 35/100\n",
            "1/1 [==============================] - 0s 4ms/step - loss: 912.6616 - mae: 912.6616\n",
            "Epoch 36/100\n",
            "1/1 [==============================] - 0s 4ms/step - loss: 912.2423 - mae: 912.2423\n",
            "Epoch 37/100\n",
            "1/1 [==============================] - 0s 13ms/step - loss: 911.7933 - mae: 911.7933\n",
            "Epoch 38/100\n",
            "1/1 [==============================] - 0s 8ms/step - loss: 911.3130 - mae: 911.3130\n",
            "Epoch 39/100\n",
            "1/1 [==============================] - 0s 20ms/step - loss: 910.7999 - mae: 910.7999\n",
            "Epoch 40/100\n",
            "1/1 [==============================] - 0s 5ms/step - loss: 910.2516 - mae: 910.2516\n",
            "Epoch 41/100\n",
            "1/1 [==============================] - 0s 17ms/step - loss: 909.6667 - mae: 909.6667\n",
            "Epoch 42/100\n",
            "1/1 [==============================] - 0s 13ms/step - loss: 909.0432 - mae: 909.0432\n",
            "Epoch 43/100\n",
            "1/1 [==============================] - 0s 11ms/step - loss: 908.3787 - mae: 908.3787\n",
            "Epoch 44/100\n",
            "1/1 [==============================] - 0s 8ms/step - loss: 907.6713 - mae: 907.6713\n",
            "Epoch 45/100\n",
            "1/1 [==============================] - 0s 7ms/step - loss: 906.9189 - mae: 906.9189\n",
            "Epoch 46/100\n",
            "1/1 [==============================] - 0s 20ms/step - loss: 906.1190 - mae: 906.1190\n",
            "Epoch 47/100\n",
            "1/1 [==============================] - 0s 12ms/step - loss: 905.2693 - mae: 905.2693\n",
            "Epoch 48/100\n",
            "1/1 [==============================] - 0s 7ms/step - loss: 904.3676 - mae: 904.3676\n",
            "Epoch 49/100\n",
            "1/1 [==============================] - 0s 8ms/step - loss: 903.4110 - mae: 903.4110\n",
            "Epoch 50/100\n",
            "1/1 [==============================] - 0s 17ms/step - loss: 902.3970 - mae: 902.3970\n",
            "Epoch 51/100\n",
            "1/1 [==============================] - 0s 13ms/step - loss: 901.3230 - mae: 901.3230\n",
            "Epoch 52/100\n",
            "1/1 [==============================] - 0s 11ms/step - loss: 900.1862 - mae: 900.1862\n",
            "Epoch 53/100\n",
            "1/1 [==============================] - 0s 9ms/step - loss: 898.9837 - mae: 898.9837\n",
            "Epoch 54/100\n",
            "1/1 [==============================] - 0s 11ms/step - loss: 897.7177 - mae: 897.7177\n",
            "Epoch 55/100\n",
            "1/1 [==============================] - 0s 8ms/step - loss: 896.4255 - mae: 896.4255\n",
            "Epoch 56/100\n",
            "1/1 [==============================] - 0s 5ms/step - loss: 895.0401 - mae: 895.0401\n",
            "Epoch 57/100\n",
            "1/1 [==============================] - 0s 8ms/step - loss: 893.7538 - mae: 893.7538\n",
            "Epoch 58/100\n",
            "1/1 [==============================] - 0s 19ms/step - loss: 892.5083 - mae: 892.5083\n",
            "Epoch 59/100\n",
            "1/1 [==============================] - 0s 10ms/step - loss: 891.2706 - mae: 891.2706\n",
            "Epoch 60/100\n",
            "1/1 [==============================] - 0s 7ms/step - loss: 889.9775 - mae: 889.9775\n",
            "Epoch 61/100\n",
            "1/1 [==============================] - 0s 11ms/step - loss: 888.6252 - mae: 888.6252\n",
            "Epoch 62/100\n",
            "1/1 [==============================] - 0s 6ms/step - loss: 887.2101 - mae: 887.2101\n",
            "Epoch 63/100\n",
            "1/1 [==============================] - 0s 4ms/step - loss: 885.7286 - mae: 885.7286\n",
            "Epoch 64/100\n",
            "1/1 [==============================] - 0s 6ms/step - loss: 884.1771 - mae: 884.1771\n",
            "Epoch 65/100\n",
            "1/1 [==============================] - 0s 5ms/step - loss: 882.5517 - mae: 882.5517\n",
            "Epoch 66/100\n",
            "1/1 [==============================] - 0s 6ms/step - loss: 880.8489 - mae: 880.8489\n",
            "Epoch 67/100\n",
            "1/1 [==============================] - 0s 6ms/step - loss: 879.0648 - mae: 879.0648\n",
            "Epoch 68/100\n",
            "1/1 [==============================] - 0s 6ms/step - loss: 877.1958 - mae: 877.1958\n",
            "Epoch 69/100\n",
            "1/1 [==============================] - 0s 6ms/step - loss: 875.2379 - mae: 875.2379\n",
            "Epoch 70/100\n",
            "1/1 [==============================] - 0s 8ms/step - loss: 873.1873 - mae: 873.1873\n",
            "Epoch 71/100\n",
            "1/1 [==============================] - 0s 5ms/step - loss: 871.0400 - mae: 871.0400\n",
            "Epoch 72/100\n",
            "1/1 [==============================] - 0s 5ms/step - loss: 868.7921 - mae: 868.7921\n",
            "Epoch 73/100\n",
            "1/1 [==============================] - 0s 4ms/step - loss: 866.4395 - mae: 866.4395\n",
            "Epoch 74/100\n",
            "1/1 [==============================] - 0s 4ms/step - loss: 863.9780 - mae: 863.9780\n",
            "Epoch 75/100\n",
            "1/1 [==============================] - 0s 6ms/step - loss: 861.4036 - mae: 861.4036\n",
            "Epoch 76/100\n",
            "1/1 [==============================] - 0s 4ms/step - loss: 858.7120 - mae: 858.7120\n",
            "Epoch 77/100\n",
            "1/1 [==============================] - 0s 4ms/step - loss: 855.8990 - mae: 855.8990\n",
            "Epoch 78/100\n",
            "1/1 [==============================] - 0s 7ms/step - loss: 852.9600 - mae: 852.9600\n",
            "Epoch 79/100\n",
            "1/1 [==============================] - 0s 5ms/step - loss: 850.1621 - mae: 850.1621\n",
            "Epoch 80/100\n",
            "1/1 [==============================] - 0s 5ms/step - loss: 846.7951 - mae: 846.7951\n",
            "Epoch 81/100\n",
            "1/1 [==============================] - 0s 4ms/step - loss: 843.5568 - mae: 843.5568\n",
            "Epoch 82/100\n",
            "1/1 [==============================] - 0s 6ms/step - loss: 840.8350 - mae: 840.8350\n",
            "Epoch 83/100\n",
            "1/1 [==============================] - 0s 6ms/step - loss: 837.7245 - mae: 837.7245\n",
            "Epoch 84/100\n",
            "1/1 [==============================] - 0s 4ms/step - loss: 835.1351 - mae: 835.1351\n",
            "Epoch 85/100\n",
            "1/1 [==============================] - 0s 12ms/step - loss: 832.4780 - mae: 832.4780\n",
            "Epoch 86/100\n",
            "1/1 [==============================] - 0s 4ms/step - loss: 829.7472 - mae: 829.7472\n",
            "Epoch 87/100\n",
            "1/1 [==============================] - 0s 5ms/step - loss: 826.9366 - mae: 826.9366\n",
            "Epoch 88/100\n",
            "1/1 [==============================] - 0s 3ms/step - loss: 824.0405 - mae: 824.0405\n",
            "Epoch 89/100\n",
            "1/1 [==============================] - 0s 7ms/step - loss: 821.0524 - mae: 821.0524\n",
            "Epoch 90/100\n",
            "1/1 [==============================] - 0s 4ms/step - loss: 817.9669 - mae: 817.9669\n",
            "Epoch 91/100\n",
            "1/1 [==============================] - 0s 4ms/step - loss: 814.7784 - mae: 814.7784\n",
            "Epoch 92/100\n",
            "1/1 [==============================] - 0s 5ms/step - loss: 811.4811 - mae: 811.4811\n",
            "Epoch 93/100\n",
            "1/1 [==============================] - 0s 7ms/step - loss: 808.0696 - mae: 808.0696\n",
            "Epoch 94/100\n",
            "1/1 [==============================] - 0s 3ms/step - loss: 804.5384 - mae: 804.5384\n",
            "Epoch 95/100\n",
            "1/1 [==============================] - 0s 3ms/step - loss: 800.8821 - mae: 800.8821\n",
            "Epoch 96/100\n",
            "1/1 [==============================] - 0s 3ms/step - loss: 797.0953 - mae: 797.0953\n",
            "Epoch 97/100\n",
            "1/1 [==============================] - 0s 4ms/step - loss: 793.1727 - mae: 793.1727\n",
            "Epoch 98/100\n",
            "1/1 [==============================] - 0s 4ms/step - loss: 789.6644 - mae: 789.6644\n",
            "Epoch 99/100\n",
            "1/1 [==============================] - 0s 4ms/step - loss: 785.0939 - mae: 785.0939\n",
            "Epoch 100/100\n",
            "1/1 [==============================] - 0s 6ms/step - loss: 780.9230 - mae: 780.9230\n"
          ]
        },
        {
          "output_type": "execute_result",
          "data": {
            "text/plain": [
              "<keras.callbacks.History at 0x7fb84f641650>"
            ]
          },
          "metadata": {},
          "execution_count": 7
        }
      ]
    },
    {
      "cell_type": "code",
      "metadata": {
        "colab": {
          "base_uri": "https://localhost:8080/"
        },
        "id": "LY4_ksAS6tYa",
        "outputId": "073f15eb-b69c-4c48-ed6e-9370501938d0"
      },
      "source": [
        "model_2.predict([3])\n",
        "\n",
        "# Overfitting happend"
      ],
      "execution_count": 8,
      "outputs": [
        {
          "output_type": "execute_result",
          "data": {
            "text/plain": [
              "array([[216.89273]], dtype=float32)"
            ]
          },
          "metadata": {},
          "execution_count": 8
        }
      ]
    },
    {
      "cell_type": "markdown",
      "metadata": {
        "id": "aOS4KyK1_DXa"
      },
      "source": [
        "3. Try and improve the results we got on the insurance dataset, some things you might want to try include:\n",
        "\n",
        "* Building a larger model (how does one with 4 dense layers go?).\n",
        "* Increasing the number of units in each layer.\n",
        "*Lookup the documentation of Adam and find out what the first parameter is, what happens if you increase it by 10x?\n",
        "* What happens if you train for longer (say 300 epochs instead of 200)?"
      ]
    },
    {
      "cell_type": "code",
      "metadata": {
        "colab": {
          "base_uri": "https://localhost:8080/",
          "height": 202
        },
        "id": "JVf8NDFb_OKs",
        "outputId": "4eecc509-edf8-4564-b5ab-fe8f82359bc3"
      },
      "source": [
        "insurance = pd.read_csv(\"https://raw.githubusercontent.com/stedy/Machine-Learning-with-R-datasets/master/insurance.csv\")\n",
        "insurance.head()"
      ],
      "execution_count": 9,
      "outputs": [
        {
          "output_type": "execute_result",
          "data": {
            "text/html": [
              "<div>\n",
              "<style scoped>\n",
              "    .dataframe tbody tr th:only-of-type {\n",
              "        vertical-align: middle;\n",
              "    }\n",
              "\n",
              "    .dataframe tbody tr th {\n",
              "        vertical-align: top;\n",
              "    }\n",
              "\n",
              "    .dataframe thead th {\n",
              "        text-align: right;\n",
              "    }\n",
              "</style>\n",
              "<table border=\"1\" class=\"dataframe\">\n",
              "  <thead>\n",
              "    <tr style=\"text-align: right;\">\n",
              "      <th></th>\n",
              "      <th>age</th>\n",
              "      <th>sex</th>\n",
              "      <th>bmi</th>\n",
              "      <th>children</th>\n",
              "      <th>smoker</th>\n",
              "      <th>region</th>\n",
              "      <th>charges</th>\n",
              "    </tr>\n",
              "  </thead>\n",
              "  <tbody>\n",
              "    <tr>\n",
              "      <th>0</th>\n",
              "      <td>19</td>\n",
              "      <td>female</td>\n",
              "      <td>27.900</td>\n",
              "      <td>0</td>\n",
              "      <td>yes</td>\n",
              "      <td>southwest</td>\n",
              "      <td>16884.92400</td>\n",
              "    </tr>\n",
              "    <tr>\n",
              "      <th>1</th>\n",
              "      <td>18</td>\n",
              "      <td>male</td>\n",
              "      <td>33.770</td>\n",
              "      <td>1</td>\n",
              "      <td>no</td>\n",
              "      <td>southeast</td>\n",
              "      <td>1725.55230</td>\n",
              "    </tr>\n",
              "    <tr>\n",
              "      <th>2</th>\n",
              "      <td>28</td>\n",
              "      <td>male</td>\n",
              "      <td>33.000</td>\n",
              "      <td>3</td>\n",
              "      <td>no</td>\n",
              "      <td>southeast</td>\n",
              "      <td>4449.46200</td>\n",
              "    </tr>\n",
              "    <tr>\n",
              "      <th>3</th>\n",
              "      <td>33</td>\n",
              "      <td>male</td>\n",
              "      <td>22.705</td>\n",
              "      <td>0</td>\n",
              "      <td>no</td>\n",
              "      <td>northwest</td>\n",
              "      <td>21984.47061</td>\n",
              "    </tr>\n",
              "    <tr>\n",
              "      <th>4</th>\n",
              "      <td>32</td>\n",
              "      <td>male</td>\n",
              "      <td>28.880</td>\n",
              "      <td>0</td>\n",
              "      <td>no</td>\n",
              "      <td>northwest</td>\n",
              "      <td>3866.85520</td>\n",
              "    </tr>\n",
              "  </tbody>\n",
              "</table>\n",
              "</div>"
            ],
            "text/plain": [
              "   age     sex     bmi  children smoker     region      charges\n",
              "0   19  female  27.900         0    yes  southwest  16884.92400\n",
              "1   18    male  33.770         1     no  southeast   1725.55230\n",
              "2   28    male  33.000         3     no  southeast   4449.46200\n",
              "3   33    male  22.705         0     no  northwest  21984.47061\n",
              "4   32    male  28.880         0     no  northwest   3866.85520"
            ]
          },
          "metadata": {},
          "execution_count": 9
        }
      ]
    },
    {
      "cell_type": "code",
      "metadata": {
        "colab": {
          "base_uri": "https://localhost:8080/",
          "height": 202
        },
        "id": "6xbWi1SP_-eC",
        "outputId": "bb46aa6e-6273-47ea-b0bb-102e5aa25014"
      },
      "source": [
        "insurance_one_hot = pd.get_dummies(insurance)\n",
        "insurance_one_hot.head()"
      ],
      "execution_count": 10,
      "outputs": [
        {
          "output_type": "execute_result",
          "data": {
            "text/html": [
              "<div>\n",
              "<style scoped>\n",
              "    .dataframe tbody tr th:only-of-type {\n",
              "        vertical-align: middle;\n",
              "    }\n",
              "\n",
              "    .dataframe tbody tr th {\n",
              "        vertical-align: top;\n",
              "    }\n",
              "\n",
              "    .dataframe thead th {\n",
              "        text-align: right;\n",
              "    }\n",
              "</style>\n",
              "<table border=\"1\" class=\"dataframe\">\n",
              "  <thead>\n",
              "    <tr style=\"text-align: right;\">\n",
              "      <th></th>\n",
              "      <th>age</th>\n",
              "      <th>bmi</th>\n",
              "      <th>children</th>\n",
              "      <th>charges</th>\n",
              "      <th>sex_female</th>\n",
              "      <th>sex_male</th>\n",
              "      <th>smoker_no</th>\n",
              "      <th>smoker_yes</th>\n",
              "      <th>region_northeast</th>\n",
              "      <th>region_northwest</th>\n",
              "      <th>region_southeast</th>\n",
              "      <th>region_southwest</th>\n",
              "    </tr>\n",
              "  </thead>\n",
              "  <tbody>\n",
              "    <tr>\n",
              "      <th>0</th>\n",
              "      <td>19</td>\n",
              "      <td>27.900</td>\n",
              "      <td>0</td>\n",
              "      <td>16884.92400</td>\n",
              "      <td>1</td>\n",
              "      <td>0</td>\n",
              "      <td>0</td>\n",
              "      <td>1</td>\n",
              "      <td>0</td>\n",
              "      <td>0</td>\n",
              "      <td>0</td>\n",
              "      <td>1</td>\n",
              "    </tr>\n",
              "    <tr>\n",
              "      <th>1</th>\n",
              "      <td>18</td>\n",
              "      <td>33.770</td>\n",
              "      <td>1</td>\n",
              "      <td>1725.55230</td>\n",
              "      <td>0</td>\n",
              "      <td>1</td>\n",
              "      <td>1</td>\n",
              "      <td>0</td>\n",
              "      <td>0</td>\n",
              "      <td>0</td>\n",
              "      <td>1</td>\n",
              "      <td>0</td>\n",
              "    </tr>\n",
              "    <tr>\n",
              "      <th>2</th>\n",
              "      <td>28</td>\n",
              "      <td>33.000</td>\n",
              "      <td>3</td>\n",
              "      <td>4449.46200</td>\n",
              "      <td>0</td>\n",
              "      <td>1</td>\n",
              "      <td>1</td>\n",
              "      <td>0</td>\n",
              "      <td>0</td>\n",
              "      <td>0</td>\n",
              "      <td>1</td>\n",
              "      <td>0</td>\n",
              "    </tr>\n",
              "    <tr>\n",
              "      <th>3</th>\n",
              "      <td>33</td>\n",
              "      <td>22.705</td>\n",
              "      <td>0</td>\n",
              "      <td>21984.47061</td>\n",
              "      <td>0</td>\n",
              "      <td>1</td>\n",
              "      <td>1</td>\n",
              "      <td>0</td>\n",
              "      <td>0</td>\n",
              "      <td>1</td>\n",
              "      <td>0</td>\n",
              "      <td>0</td>\n",
              "    </tr>\n",
              "    <tr>\n",
              "      <th>4</th>\n",
              "      <td>32</td>\n",
              "      <td>28.880</td>\n",
              "      <td>0</td>\n",
              "      <td>3866.85520</td>\n",
              "      <td>0</td>\n",
              "      <td>1</td>\n",
              "      <td>1</td>\n",
              "      <td>0</td>\n",
              "      <td>0</td>\n",
              "      <td>1</td>\n",
              "      <td>0</td>\n",
              "      <td>0</td>\n",
              "    </tr>\n",
              "  </tbody>\n",
              "</table>\n",
              "</div>"
            ],
            "text/plain": [
              "   age     bmi  children  ...  region_northwest  region_southeast  region_southwest\n",
              "0   19  27.900         0  ...                 0                 0                 1\n",
              "1   18  33.770         1  ...                 0                 1                 0\n",
              "2   28  33.000         3  ...                 0                 1                 0\n",
              "3   33  22.705         0  ...                 1                 0                 0\n",
              "4   32  28.880         0  ...                 1                 0                 0\n",
              "\n",
              "[5 rows x 12 columns]"
            ]
          },
          "metadata": {},
          "execution_count": 10
        }
      ]
    },
    {
      "cell_type": "code",
      "metadata": {
        "id": "GcD9Xqym_pl2"
      },
      "source": [
        "x = insurance_one_hot.drop(\"charges\", axis=1)\n",
        "y = insurance_one_hot[\"charges\"]"
      ],
      "execution_count": 11,
      "outputs": []
    },
    {
      "cell_type": "code",
      "metadata": {
        "id": "psztLbVvAi-9"
      },
      "source": [
        "x_train, x_test, y_train, y_test = train_test_split(x, y, test_size=0.2, random_state=42)"
      ],
      "execution_count": 12,
      "outputs": []
    },
    {
      "cell_type": "code",
      "metadata": {
        "colab": {
          "base_uri": "https://localhost:8080/"
        },
        "id": "XU5v0c4L64Aq",
        "outputId": "8d73d8b5-49bc-4ab8-c67b-5ef6e1ee6b61"
      },
      "source": [
        "tf.random.set_seed(42)\n",
        "\n",
        "model_3 = tf.keras.Sequential([\n",
        "                     tf.keras.layers.Dense(100),\n",
        "                     tf.keras.layers.Dense(100),\n",
        "                     tf.keras.layers.Dense(100),\n",
        "                     tf.keras.layers.Dense(1)\n",
        "])\n",
        "\n",
        "model_3.compile(loss=tf.keras.losses.mae,\n",
        "                optimizer=tf.keras.optimizers.Adam(learning_rate=0.1),\n",
        "                metrics=[\"mae\"])\n",
        "\n",
        "model_3.fit(x_train, y_train, epochs=300, verbose=0)"
      ],
      "execution_count": 13,
      "outputs": [
        {
          "output_type": "execute_result",
          "data": {
            "text/plain": [
              "<keras.callbacks.History at 0x7fb84df754d0>"
            ]
          },
          "metadata": {},
          "execution_count": 13
        }
      ]
    },
    {
      "cell_type": "code",
      "metadata": {
        "colab": {
          "base_uri": "https://localhost:8080/"
        },
        "id": "IFMkAJfhCFIu",
        "outputId": "27f8a8cc-b866-46f7-f176-e4d3d6ac97d0"
      },
      "source": [
        "model_3.evaluate(x_test, y_test)"
      ],
      "execution_count": 14,
      "outputs": [
        {
          "output_type": "stream",
          "name": "stdout",
          "text": [
            "9/9 [==============================] - 0s 2ms/step - loss: 3579.8176 - mae: 3579.8176\n"
          ]
        },
        {
          "output_type": "execute_result",
          "data": {
            "text/plain": [
              "[3579.817626953125, 3579.817626953125]"
            ]
          },
          "metadata": {},
          "execution_count": 14
        }
      ]
    },
    {
      "cell_type": "markdown",
      "metadata": {
        "id": "BkbXRduvwwQf"
      },
      "source": [
        "4. Import the Boston pricing dataset from TensorFlow tf.keras.datasets and model it."
      ]
    },
    {
      "cell_type": "code",
      "metadata": {
        "id": "aghb6dJLC2KD"
      },
      "source": [
        "boston = tf.keras.datasets.boston_housing.load_data(path=\"boston_housing.npz\",\n",
        "                                                    test_split=0.2,\n",
        "                                                    seed=113)"
      ],
      "execution_count": 17,
      "outputs": []
    },
    {
      "cell_type": "code",
      "metadata": {
        "colab": {
          "base_uri": "https://localhost:8080/"
        },
        "id": "qFPj0go2t8oE",
        "outputId": "53ab2df3-55b3-46ec-991f-84c989fcb31a"
      },
      "source": [
        "boston"
      ],
      "execution_count": 18,
      "outputs": [
        {
          "output_type": "execute_result",
          "data": {
            "text/plain": [
              "((array([[1.23247e+00, 0.00000e+00, 8.14000e+00, ..., 2.10000e+01,\n",
              "          3.96900e+02, 1.87200e+01],\n",
              "         [2.17700e-02, 8.25000e+01, 2.03000e+00, ..., 1.47000e+01,\n",
              "          3.95380e+02, 3.11000e+00],\n",
              "         [4.89822e+00, 0.00000e+00, 1.81000e+01, ..., 2.02000e+01,\n",
              "          3.75520e+02, 3.26000e+00],\n",
              "         ...,\n",
              "         [3.46600e-02, 3.50000e+01, 6.06000e+00, ..., 1.69000e+01,\n",
              "          3.62250e+02, 7.83000e+00],\n",
              "         [2.14918e+00, 0.00000e+00, 1.95800e+01, ..., 1.47000e+01,\n",
              "          2.61950e+02, 1.57900e+01],\n",
              "         [1.43900e-02, 6.00000e+01, 2.93000e+00, ..., 1.56000e+01,\n",
              "          3.76700e+02, 4.38000e+00]]),\n",
              "  array([15.2, 42.3, 50. , 21.1, 17.7, 18.5, 11.3, 15.6, 15.6, 14.4, 12.1,\n",
              "         17.9, 23.1, 19.9, 15.7,  8.8, 50. , 22.5, 24.1, 27.5, 10.9, 30.8,\n",
              "         32.9, 24. , 18.5, 13.3, 22.9, 34.7, 16.6, 17.5, 22.3, 16.1, 14.9,\n",
              "         23.1, 34.9, 25. , 13.9, 13.1, 20.4, 20. , 15.2, 24.7, 22.2, 16.7,\n",
              "         12.7, 15.6, 18.4, 21. , 30.1, 15.1, 18.7,  9.6, 31.5, 24.8, 19.1,\n",
              "         22. , 14.5, 11. , 32. , 29.4, 20.3, 24.4, 14.6, 19.5, 14.1, 14.3,\n",
              "         15.6, 10.5,  6.3, 19.3, 19.3, 13.4, 36.4, 17.8, 13.5, 16.5,  8.3,\n",
              "         14.3, 16. , 13.4, 28.6, 43.5, 20.2, 22. , 23. , 20.7, 12.5, 48.5,\n",
              "         14.6, 13.4, 23.7, 50. , 21.7, 39.8, 38.7, 22.2, 34.9, 22.5, 31.1,\n",
              "         28.7, 46. , 41.7, 21. , 26.6, 15. , 24.4, 13.3, 21.2, 11.7, 21.7,\n",
              "         19.4, 50. , 22.8, 19.7, 24.7, 36.2, 14.2, 18.9, 18.3, 20.6, 24.6,\n",
              "         18.2,  8.7, 44. , 10.4, 13.2, 21.2, 37. , 30.7, 22.9, 20. , 19.3,\n",
              "         31.7, 32. , 23.1, 18.8, 10.9, 50. , 19.6,  5. , 14.4, 19.8, 13.8,\n",
              "         19.6, 23.9, 24.5, 25. , 19.9, 17.2, 24.6, 13.5, 26.6, 21.4, 11.9,\n",
              "         22.6, 19.6,  8.5, 23.7, 23.1, 22.4, 20.5, 23.6, 18.4, 35.2, 23.1,\n",
              "         27.9, 20.6, 23.7, 28. , 13.6, 27.1, 23.6, 20.6, 18.2, 21.7, 17.1,\n",
              "          8.4, 25.3, 13.8, 22.2, 18.4, 20.7, 31.6, 30.5, 20.3,  8.8, 19.2,\n",
              "         19.4, 23.1, 23. , 14.8, 48.8, 22.6, 33.4, 21.1, 13.6, 32.2, 13.1,\n",
              "         23.4, 18.9, 23.9, 11.8, 23.3, 22.8, 19.6, 16.7, 13.4, 22.2, 20.4,\n",
              "         21.8, 26.4, 14.9, 24.1, 23.8, 12.3, 29.1, 21. , 19.5, 23.3, 23.8,\n",
              "         17.8, 11.5, 21.7, 19.9, 25. , 33.4, 28.5, 21.4, 24.3, 27.5, 33.1,\n",
              "         16.2, 23.3, 48.3, 22.9, 22.8, 13.1, 12.7, 22.6, 15. , 15.3, 10.5,\n",
              "         24. , 18.5, 21.7, 19.5, 33.2, 23.2,  5. , 19.1, 12.7, 22.3, 10.2,\n",
              "         13.9, 16.3, 17. , 20.1, 29.9, 17.2, 37.3, 45.4, 17.8, 23.2, 29. ,\n",
              "         22. , 18. , 17.4, 34.6, 20.1, 25. , 15.6, 24.8, 28.2, 21.2, 21.4,\n",
              "         23.8, 31. , 26.2, 17.4, 37.9, 17.5, 20. ,  8.3, 23.9,  8.4, 13.8,\n",
              "          7.2, 11.7, 17.1, 21.6, 50. , 16.1, 20.4, 20.6, 21.4, 20.6, 36.5,\n",
              "          8.5, 24.8, 10.8, 21.9, 17.3, 18.9, 36.2, 14.9, 18.2, 33.3, 21.8,\n",
              "         19.7, 31.6, 24.8, 19.4, 22.8,  7.5, 44.8, 16.8, 18.7, 50. , 50. ,\n",
              "         19.5, 20.1, 50. , 17.2, 20.8, 19.3, 41.3, 20.4, 20.5, 13.8, 16.5,\n",
              "         23.9, 20.6, 31.5, 23.3, 16.8, 14. , 33.8, 36.1, 12.8, 18.3, 18.7,\n",
              "         19.1, 29. , 30.1, 50. , 50. , 22. , 11.9, 37.6, 50. , 22.7, 20.8,\n",
              "         23.5, 27.9, 50. , 19.3, 23.9, 22.6, 15.2, 21.7, 19.2, 43.8, 20.3,\n",
              "         33.2, 19.9, 22.5, 32.7, 22. , 17.1, 19. , 15. , 16.1, 25.1, 23.7,\n",
              "         28.7, 37.2, 22.6, 16.4, 25. , 29.8, 22.1, 17.4, 18.1, 30.3, 17.5,\n",
              "         24.7, 12.6, 26.5, 28.7, 13.3, 10.4, 24.4, 23. , 20. , 17.8,  7. ,\n",
              "         11.8, 24.4, 13.8, 19.4, 25.2, 19.4, 19.4, 29.1])),\n",
              " (array([[1.80846e+01, 0.00000e+00, 1.81000e+01, ..., 2.02000e+01,\n",
              "          2.72500e+01, 2.90500e+01],\n",
              "         [1.23290e-01, 0.00000e+00, 1.00100e+01, ..., 1.78000e+01,\n",
              "          3.94950e+02, 1.62100e+01],\n",
              "         [5.49700e-02, 0.00000e+00, 5.19000e+00, ..., 2.02000e+01,\n",
              "          3.96900e+02, 9.74000e+00],\n",
              "         ...,\n",
              "         [1.83377e+00, 0.00000e+00, 1.95800e+01, ..., 1.47000e+01,\n",
              "          3.89610e+02, 1.92000e+00],\n",
              "         [3.58090e-01, 0.00000e+00, 6.20000e+00, ..., 1.74000e+01,\n",
              "          3.91700e+02, 9.71000e+00],\n",
              "         [2.92400e+00, 0.00000e+00, 1.95800e+01, ..., 1.47000e+01,\n",
              "          2.40160e+02, 9.81000e+00]]),\n",
              "  array([ 7.2, 18.8, 19. , 27. , 22.2, 24.5, 31.2, 22.9, 20.5, 23.2, 18.6,\n",
              "         14.5, 17.8, 50. , 20.8, 24.3, 24.2, 19.8, 19.1, 22.7, 12. , 10.2,\n",
              "         20. , 18.5, 20.9, 23. , 27.5, 30.1,  9.5, 22. , 21.2, 14.1, 33.1,\n",
              "         23.4, 20.1,  7.4, 15.4, 23.8, 20.1, 24.5, 33. , 28.4, 14.1, 46.7,\n",
              "         32.5, 29.6, 28.4, 19.8, 20.2, 25. , 35.4, 20.3,  9.7, 14.5, 34.9,\n",
              "         26.6,  7.2, 50. , 32.4, 21.6, 29.8, 13.1, 27.5, 21.2, 23.1, 21.9,\n",
              "         13. , 23.2,  8.1,  5.6, 21.7, 29.6, 19.6,  7. , 26.4, 18.9, 20.9,\n",
              "         28.1, 35.4, 10.2, 24.3, 43.1, 17.6, 15.4, 16.2, 27.1, 21.4, 21.5,\n",
              "         22.4, 25. , 16.6, 18.6, 22. , 42.8, 35.1, 21.5, 36. , 21.9, 24.1,\n",
              "         50. , 26.7, 25. ])))"
            ]
          },
          "metadata": {},
          "execution_count": 18
        }
      ]
    },
    {
      "cell_type": "code",
      "metadata": {
        "id": "6MDVJZjMvr_f"
      },
      "source": [
        "(x_train, y_train), (x_test, y_test) = boston"
      ],
      "execution_count": 19,
      "outputs": []
    },
    {
      "cell_type": "code",
      "metadata": {
        "colab": {
          "base_uri": "https://localhost:8080/"
        },
        "id": "MwN8CfdgwBzT",
        "outputId": "b8669890-8923-4e84-a3ed-e5fff97c2888"
      },
      "source": [
        "tf.random.set_seed(42)\n",
        "\n",
        "model_4 = tf.keras.Sequential([\n",
        "                     tf.keras.layers.Dense(100),\n",
        "                     tf.keras.layers.Dense(1)\n",
        "])\n",
        "\n",
        "model_4.compile(loss=tf.keras.losses.mae,\n",
        "                optimizer=tf.keras.optimizers.Adam(learning_rate=0.1),\n",
        "                metrics=[\"mae\"])\n",
        "\n",
        "model_4.fit(x_train, y_train, epochs=300, verbose=0)"
      ],
      "execution_count": 20,
      "outputs": [
        {
          "output_type": "execute_result",
          "data": {
            "text/plain": [
              "<keras.callbacks.History at 0x7fb84f54ac50>"
            ]
          },
          "metadata": {},
          "execution_count": 20
        }
      ]
    },
    {
      "cell_type": "code",
      "metadata": {
        "colab": {
          "base_uri": "https://localhost:8080/"
        },
        "id": "0fFudD8vwTrO",
        "outputId": "bc7746cf-57dc-4aa8-919a-62c99eb23034"
      },
      "source": [
        "model_4.evaluate(x_test, y_test)"
      ],
      "execution_count": 21,
      "outputs": [
        {
          "output_type": "stream",
          "name": "stdout",
          "text": [
            "4/4 [==============================] - 0s 3ms/step - loss: 3.3661 - mae: 3.3661\n"
          ]
        },
        {
          "output_type": "execute_result",
          "data": {
            "text/plain": [
              "[3.366107940673828, 3.366107940673828]"
            ]
          },
          "metadata": {},
          "execution_count": 21
        }
      ]
    },
    {
      "cell_type": "code",
      "metadata": {
        "id": "sVREFlKmwXy2"
      },
      "source": [
        ""
      ],
      "execution_count": null,
      "outputs": []
    }
  ]
}